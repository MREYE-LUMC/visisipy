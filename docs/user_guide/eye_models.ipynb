{
 "cells": [
  {
   "cell_type": "markdown",
   "id": "644d4c5e324196e2",
   "metadata": {},
   "source": [
    "# Defining eye models\n",
    "\n",
    "Eye models provide a backend-independent specification of the optical eye model.\n",
    "They can be created using the {py:class}`visisipy.models.EyeModel` class:"
   ]
  },
  {
   "cell_type": "code",
   "execution_count": 1,
   "id": "initial_id",
   "metadata": {
    "ExecuteTime": {
     "end_time": "2025-04-22T14:53:13.604650Z",
     "start_time": "2025-04-22T14:53:06.618801Z"
    },
    "collapsed": true
   },
   "outputs": [],
   "source": [
    "import visisipy\n",
    "\n",
    "model = visisipy.EyeModel()"
   ]
  },
  {
   "cell_type": "markdown",
   "id": "bcb1bb7e5b48aa02",
   "metadata": {},
   "source": [
    "Eye models consist of two parts: the geometry of the eye and the material model.\n",
    "By default, Visisipy uses the geometry and material properties from the  Navarro schematic eye\n",
    "[](doi:10.1364/JOSAA.16.001881)."
   ]
  },
  {
   "cell_type": "markdown",
   "id": "be942e011605642e",
   "metadata": {},
   "source": [
    "## Eye geometry\n",
    "\n",
    "Geometries are defined in {py:mod}`visisipy.models.geometry`.\n",
    "Apart from base classes that can be used to define your own geometry, this module also provides a number of predefined\n",
    "geometries, such as the {py:class}`NavarroGeometry <visisipy.models.geometry.NavarroGeometry>`.\n",
    "Geometry objects contain surface definitions for all surfaces in the eye model.\n",
    "A fully customized geometry can be specified like this:"
   ]
  },
  {
   "cell_type": "code",
   "execution_count": 2,
   "id": "8c66aaaa588363f4",
   "metadata": {
    "ExecuteTime": {
     "end_time": "2025-04-22T14:53:13.828308Z",
     "start_time": "2025-04-22T14:53:13.823299Z"
    }
   },
   "outputs": [],
   "source": [
    "from visisipy.models.geometry import StandardSurface, Stop\n",
    "\n",
    "custom_geometry = visisipy.EyeGeometry(\n",
    "    cornea_front=StandardSurface(radius=7.72, asphericity=-0.26, thickness=0.55),\n",
    "    cornea_back=StandardSurface(radius=6.50, asphericity=0, thickness=3.05),\n",
    "    pupil=Stop(semi_diameter=1.348),\n",
    "    lens_front=StandardSurface(radius=10.2, asphericity=-3.1316, thickness=4.0),\n",
    "    lens_back=StandardSurface(radius=-6.0, asphericity=-1, thickness=16.3203),\n",
    "    retina=StandardSurface(radius=-12.0, asphericity=0),\n",
    ")"
   ]
  },
  {
   "cell_type": "markdown",
   "id": "1e165b8649c2850f",
   "metadata": {},
   "source": [
    "It is also possible to modify the predefined geometries. Complete surfaces can be replaced via the model constructor, or single parameters can be modified after creating the model.\n",
    "\n",
    ":::{note}\n",
    "When modifying the geometry using the constructor, only complete surfaces can be modified.\n",
    ":::"
   ]
  },
  {
   "cell_type": "code",
   "execution_count": 3,
   "id": "2230466fbf4758e7",
   "metadata": {
    "ExecuteTime": {
     "end_time": "2025-04-22T14:53:13.859955Z",
     "start_time": "2025-04-22T14:53:13.837300Z"
    }
   },
   "outputs": [],
   "source": [
    "default_navarro_geometry = visisipy.NavarroGeometry()\n",
    "\n",
    "# Change the thickness of the cornea front surface\n",
    "default_navarro_geometry.cornea_front.thickness = 1\n",
    "\n",
    "# Alternatively, specify a new cornea front surface upon model creation\n",
    "modified_navarro_geometry = visisipy.NavarroGeometry(\n",
    "    cornea_front=StandardSurface(radius=7.72, asphericity=-0.26, thickness=1),\n",
    ")"
   ]
  },
  {
   "cell_type": "markdown",
   "id": "d6d72bbeccd5c787",
   "metadata": {},
   "source": [
    "### Easy geometry customization with {py:func}`create_geometry <visisipy.models.geometry.create_geometry>`\n",
    "\n",
    "The easiest way to create a custom geometry is to use the {py:func}`create_geometry <visisipy.models.geometry.create_geometry>` function.\n",
    "Using this function, you can specify the geometry using a set of clinically relevant parameters, such as the cornea radius, lens thickness, and axial length.\n",
    "Parameters that are not specified will be taken from a standard geometry, which is the Navarro geometry by default.\n",
    "The base geometry can be changed using the `base` parameter of {py:func}`create_geometry <visisipy.models.geometry.create_geometry>`.\n",
    "\n",
    "As an example, a custom geometry based on the Navarro geometry can be created like this:"
   ]
  },
  {
   "cell_type": "code",
   "execution_count": 4,
   "id": "1ba687cb77151059",
   "metadata": {
    "ExecuteTime": {
     "end_time": "2025-04-22T14:53:13.871366Z",
     "start_time": "2025-04-22T14:53:13.866962Z"
    }
   },
   "outputs": [],
   "source": [
    "myopic_geometry = visisipy.create_geometry(axial_length=26, cornea_front_radius=8.0, lens_thickness=4.0)"
   ]
  },
  {
   "cell_type": "markdown",
   "id": "602bdb1d424857d1",
   "metadata": {},
   "source": [
    "### Convenience properties\n",
    "\n",
    "{py:class}`EyeGeometry <visisipy.models.geometry.EyeGeometry>` objects provide some convenience properties to access clinically relevant parameters.\n",
    "Note that these properties are calculated from the surface definitions and can therefore not be set directly."
   ]
  },
  {
   "cell_type": "code",
   "execution_count": 5,
   "id": "c82c2f82c47f459e",
   "metadata": {
    "ExecuteTime": {
     "end_time": "2025-04-22T14:53:13.889016Z",
     "start_time": "2025-04-22T14:53:13.880130Z"
    }
   },
   "outputs": [
    {
     "name": "stdout",
     "output_type": "stream",
     "text": [
      "\n",
      "Cornea thickness       : 1 mm,\n",
      "Anterior chamber depth : 3.05 mm,\n",
      "Lens thickness         : 4.0 mm,\n",
      "Vitreous chamber depth : 16.3203 mm,\n",
      "Axial length           : 24.3703 mm,\n",
      "\n"
     ]
    }
   ],
   "source": [
    "print(f\"\"\"\n",
    "Cornea thickness       : {default_navarro_geometry.cornea_thickness} mm,\n",
    "Anterior chamber depth : {default_navarro_geometry.anterior_chamber_depth} mm,\n",
    "Lens thickness         : {default_navarro_geometry.lens_thickness} mm,\n",
    "Vitreous chamber depth : {default_navarro_geometry.vitreous_thickness} mm,\n",
    "Axial length           : {default_navarro_geometry.axial_length} mm,\n",
    "\"\"\")"
   ]
  },
  {
   "cell_type": "markdown",
   "id": "be3363fd571ac7d1",
   "metadata": {},
   "source": [
    "## Eye materials\n",
    "\n",
    "The material properties of the different parts of the eye can be specified using {py:class}`EyeMaterials <visisipy.models.materials.EyeMaterials>`.\n",
    "This class bundles the material properties of the cornea, aqueous humour, lens, and vitreous humour.\n",
    "For each of these structures, the material can either be a {py:class}`MaterialModel <visisipy.models.materials.MaterialModel>` or a string.\n",
    "If a string is used, it should be a valid material name in the selected backend.\n",
    "\n",
    "{py:class}`MaterialModel <visisipy.models.materials.MaterialModel>`s allow to specify the refractive index, Abbe number, and partial dispersion of the material.\n",
    "The partial dispersion is only used in the OpticStudio backend and is ignored in other backends."
   ]
  },
  {
   "cell_type": "markdown",
   "id": "59a81ad53f745631",
   "metadata": {},
   "source": [
    "### Predefined material models\n",
    "\n",
    "Visisipy provides a number of predefined material models.\n",
    "Most importantly, the {py:class}`NavarroMaterials <visisipy.models.materials.NavarroMaterials>` class provides the material properties of the Navarro eye model.\n",
    "This model has been fitted to the refractive indices reported by Escudero-Sanz and Navarro (1999) and works well for all visible wavelengths.\n",
    "The model accuracy is slightly lower than the specific models for each wavelength, but it is still a good approximation.\n",
    "\n",
    "Furthermore, material models are provided for all separate wavelengths as reported by Escudero-Sanz and Navarro (1999):\n",
    "\n",
    "- {py:class}`NavarroMaterials458 <visisipy.models.materials.NavarroMaterials458>`: 458 nm\n",
    "- {py:class}`NavarroMaterials543 <visisipy.models.materials.NavarroMaterials543>`: 543 nm\n",
    "- {py:class}`NavarroMaterials589 <visisipy.models.materials.NavarroMaterials589>`: 589.3 nm\n",
    "- {py:class}`NavarroMaterials633 <visisipy.models.materials.NavarroMaterials633>`: 632.8 nm\n",
    "\n",
    ":::{attention}\n",
    "The models for specific wavelengths have a constant refractive index.\n",
    "It is possible to use them with different wavelengths, but this will result in inaccurate results.\n",
    ":::"
   ]
  },
  {
   "cell_type": "markdown",
   "id": "3edb0d28f6908e74",
   "metadata": {},
   "source": [
    "## Building the model\n",
    "\n",
    "Let's bring it all together!\n",
    "After defining the eye model in terms of its geometry and materials, the model can be built in the backend using its {py:meth}`build <visisipy.models.EyeModel.build>` method."
   ]
  },
  {
   "cell_type": "code",
   "execution_count": 6,
   "id": "81637fae383e4bb",
   "metadata": {
    "ExecuteTime": {
     "end_time": "2025-04-22T14:53:22.437419Z",
     "start_time": "2025-04-22T14:53:13.900612Z"
    }
   },
   "outputs": [
    {
     "data": {
      "text/plain": [
       "<visisipy.opticstudio.models.OpticStudioEye at 0x1908507cd40>"
      ]
     },
     "execution_count": 6,
     "metadata": {},
     "output_type": "execute_result"
    }
   ],
   "source": [
    "final_model = visisipy.EyeModel(\n",
    "    geometry=default_navarro_geometry, materials=visisipy.models.materials.NavarroMaterials458()\n",
    ")\n",
    "final_model.build()"
   ]
  },
  {
   "cell_type": "markdown",
   "id": "19e57b7d4b761d1c",
   "metadata": {},
   "source": [
    "If a backend has not yet been initialized, the default backend will be initialized and used to build the model.\n",
    "You can read more about that in the next chapter."
   ]
  }
 ],
 "metadata": {
  "kernelspec": {
   "display_name": "Python 3",
   "language": "python",
   "name": "python3"
  },
  "language_info": {
   "codemirror_mode": {
    "name": "ipython",
    "version": 2
   },
   "file_extension": ".py",
   "mimetype": "text/x-python",
   "name": "python",
   "nbconvert_exporter": "python",
   "pygments_lexer": "ipython2",
   "version": "2.7.6"
  }
 },
 "nbformat": 4,
 "nbformat_minor": 5
}
