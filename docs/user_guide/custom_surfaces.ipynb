{
 "cells": [
  {
   "cell_type": "markdown",
   "id": "ef1589e7",
   "metadata": {},
   "source": [
    "# Defining custom surface types\n",
    "\n",
    "Visisipy supports the optical surface types that are most commonly used in optical simulations.\n",
    "For more advanced simulations, it is possible to define a custom surface type.\n",
    "This guide demonstrates how to implement Optiland's toroidal surface type.\n",
    "A similar approach can be used to implement custom surfaces for the OpticStudio backend."
   ]
  },
  {
   "cell_type": "markdown",
   "id": "68cb871d",
   "metadata": {},
   "source": [
    "## Generic surface definition\n",
    "\n",
    "First, we create a `ToroidalSurface` class that inherits from `StandardSurface`.\n",
    "This class is not backend-specific; it is used to provide a common interface for all supported backends, and can be used when creating the eye model.\n",
    "For surfaces available in Visisipy, similar classes are defined in {py:mod}`visisipy.models.geometry`.\n",
    "To simplify the class definition, we use a `dataclass`."
   ]
  },
  {
   "cell_type": "code",
   "execution_count": 1,
   "id": "ba91e98c",
   "metadata": {},
   "outputs": [],
   "source": [
    "from __future__ import annotations"
   ]
  },
  {
   "cell_type": "code",
   "execution_count": 2,
   "id": "1b2a9bd3",
   "metadata": {},
   "outputs": [],
   "source": [
    "from dataclasses import dataclass, field\n",
    "\n",
    "from visisipy.models.geometry import StandardSurface\n",
    "\n",
    "\n",
    "@dataclass\n",
    "class ToroidalSurface(StandardSurface):\n",
    "    \"\"\"Toroidal surface definition.\n",
    "\n",
    "    Attributes\n",
    "    ----------\n",
    "    radius : float\n",
    "        The radius of the surface in the y (inferior-superior) direction. Default is infinity.\n",
    "    asphericity : float\n",
    "        The asphericity of the surface in the y (inferior-superior) direction. Default is 0.\n",
    "    thickness : float\n",
    "        The thickness of the surface. Default is 0.\n",
    "    semi_diameter : float | None\n",
    "        The semi-diameter of the surface aperture. Default is `None`.\n",
    "    is_stop : bool\n",
    "        If `True`, the surface is a stop surface. Default is `False`.\n",
    "    rotation_radius : float\n",
    "        Radius of rotation in the XZ plane.\n",
    "    coeffs_poly_y : list[float]\n",
    "        Polynomial coefficients in the YZ plane. This curve is rotated around an axis parallel to the y axis.\n",
    "    \"\"\"\n",
    "\n",
    "    rotation_radius: float = float(\"inf\")\n",
    "    coeffs_poly_y: list[float] = field(default_factory=list)"
   ]
  },
  {
   "cell_type": "markdown",
   "id": "d990598a",
   "metadata": {},
   "source": [
    "## Backend-specific implementation"
   ]
  },
  {
   "cell_type": "markdown",
   "id": "9802d28f",
   "metadata": {},
   "source": [
    "We can now write a backend-specific implementation of the `ToroidalSurface` class.\n",
    "This class implements the logic used to build the surface in the Optiland backend.\n",
    "\n",
    "The implementation shown below is a minimal example that only supports creating the surface.\n",
    "The implementations in {py:mod}`visisipy.models.geometry`, also provide methods to access the surface parameters, and use more robust type hints."
   ]
  },
  {
   "cell_type": "code",
   "execution_count": 3,
   "id": "5b240856",
   "metadata": {},
   "outputs": [],
   "source": [
    "from typing import TYPE_CHECKING\n",
    "\n",
    "from visisipy.models.materials import MaterialModel  # noqa: TC001\n",
    "from visisipy.optiland.surfaces import BaseOptilandSurface\n",
    "\n",
    "if TYPE_CHECKING:\n",
    "    from optiland.optic import Optic\n",
    "\n",
    "\n",
    "class OptilandToroidalSurface(BaseOptilandSurface):\n",
    "    \"\"\"Toroidal surface in Optiland.\"\"\"\n",
    "\n",
    "    # Name of the geometry type in Optiland\n",
    "    _TYPE: str = \"toroidal\"\n",
    "\n",
    "    def __init__(\n",
    "        self,\n",
    "        comment: str,\n",
    "        *,\n",
    "        radius: float = float(\"inf\"),\n",
    "        radius_x: float = float(\"inf\"),\n",
    "        thickness: float = 0.0,\n",
    "        semi_diameter: float | None = None,\n",
    "        conic: float = 0.0,\n",
    "        toroidal_coeffs_poly_y: list[float] | None = None,\n",
    "        material: MaterialModel | str | None = None,\n",
    "        is_stop: bool | None = None,\n",
    "    ):\n",
    "        super().__init__()\n",
    "\n",
    "        self._comment = comment\n",
    "        self._radius = radius\n",
    "        self._radius_x = radius_x\n",
    "        self._thickness = thickness\n",
    "        self._semi_diameter = semi_diameter\n",
    "        self._conic = conic\n",
    "        self._coeffs_poly_y = toroidal_coeffs_poly_y if toroidal_coeffs_poly_y is not None else []\n",
    "        self._material = material\n",
    "        self._is_stop = is_stop\n",
    "\n",
    "    def build(self, optic: Optic, *, position: int, replace_existing: bool = False) -> int:\n",
    "        \"\"\"Create the surface in Optiland.\n",
    "\n",
    "        Create the surface in the provided `Optic` object at the specified `position`.\n",
    "        By default, a new surface will be created. If `replace_existing` is `True`, the existing surface at the\n",
    "        specified position will be replaced.\n",
    "\n",
    "        Parameters\n",
    "        ----------\n",
    "        optic : Optic\n",
    "            The Optic object to which the surface will be added.\n",
    "        position : int\n",
    "            The index at which the surface will be added, starting at 0 for the object surface.\n",
    "        replace_existing : bool\n",
    "            If `True`, replace an existing surface instead of inserting a new one. Defaults to `False`.\n",
    "\n",
    "        Returns\n",
    "        -------\n",
    "        int\n",
    "            The index of the created surface. Subsequent surfaces should be after this index.\n",
    "        \"\"\"\n",
    "        self._create_surface(\n",
    "            optic=optic,\n",
    "            position=position,\n",
    "            replace_existing=replace_existing,\n",
    "            comment=self._comment,\n",
    "            # Optiland uses radius_x for the rotation radius\n",
    "            radius=self._radius_x,\n",
    "            # Optiland uses radius_y for the radius of curvature\n",
    "            radius_y=self._radius,\n",
    "            thickness=self._thickness,\n",
    "            semi_diameter=self._semi_diameter,\n",
    "            conic=self._conic,\n",
    "            toroidal_coeffs_poly_y=self._coeffs_poly_y,\n",
    "            material=self._convert_material(self._material),\n",
    "            is_stop=bool(self._is_stop),\n",
    "        )\n",
    "\n",
    "        # Note that the build method must return the position of the created surface.\n",
    "        # This is used to determine where subsequent surfaces should be added\n",
    "        return position"
   ]
  },
  {
   "cell_type": "markdown",
   "id": "a851d5cb",
   "metadata": {},
   "source": [
    "## Surface factory function\n",
    "\n",
    "When building the eye model, the `ToroidalSurface` object needs to be converted to an `OptilandToroidalSurface` object.\n",
    "This is done using the {py:func}`make_surface <visisipy.optiland.surfaces.make_surface>` factory function, which is defined for each backend separately.\n",
    "The factory function has the following signature:\n",
    "\n",
    "```python\n",
    "def make_surface(surface: Surface, material: str | MaterialModel, comment: str = \"\") -> OptilandSurface: ...\n",
    "```\n",
    "\n",
    "Using [single dispatch](https://docs.python.org/3/library/functools.html#functools.singledispatch),\n",
    "multiple implementations of the `make_surface` function can be defined for different surface types.\n",
    "Which implementation is used depends on the type of the `surface` argument.\n",
    "A new implementation can be registered using the `@make_surface.register` decorator, as shown below.\n"
   ]
  },
  {
   "cell_type": "code",
   "execution_count": 4,
   "id": "88fced65",
   "metadata": {},
   "outputs": [],
   "source": [
    "from typing import Union\n",
    "\n",
    "from visisipy.optiland.surfaces import make_surface\n",
    "\n",
    "\n",
    "@make_surface.register\n",
    "def _make_toroidal_surface(\n",
    "    surface: ToroidalSurface,\n",
    "    material: Union[str, MaterialModel],  # noqa: UP007\n",
    "    comment: str = \"\",\n",
    ") -> OptilandToroidalSurface:\n",
    "    return OptilandToroidalSurface(\n",
    "        comment=comment,\n",
    "        radius=surface.radius,\n",
    "        radius_x=surface.rotation_radius,\n",
    "        thickness=surface.thickness,\n",
    "        semi_diameter=surface.semi_diameter,\n",
    "        conic=surface.asphericity,\n",
    "        toroidal_coeffs_poly_y=surface.coeffs_poly_y,\n",
    "        material=material,\n",
    "    )"
   ]
  },
  {
   "cell_type": "markdown",
   "id": "17133bc4",
   "metadata": {},
   "source": [
    "## Testing the implementation\n",
    "\n",
    "Let's see if we can create a toroidal surface using the factory function:"
   ]
  },
  {
   "cell_type": "code",
   "execution_count": null,
   "id": "90e22f2a",
   "metadata": {},
   "outputs": [
    {
     "name": "stdout",
     "output_type": "stream",
     "text": [
      "True\n"
     ]
    }
   ],
   "source": [
    "test_toroidal_surface = make_surface(\n",
    "    ToroidalSurface(rotation_radius=2), material=\"BK7\", comment=\"Toroidal surface example\"\n",
    ")\n",
    "\n",
    "print(test_toroidal_surface._radius_x == 2)  # noqa: PLR2004, SLF001"
   ]
  },
  {
   "cell_type": "markdown",
   "id": "1051ce60",
   "metadata": {},
   "source": [
    "We can now create an eye model with a toroidal cornea."
   ]
  },
  {
   "cell_type": "code",
   "execution_count": 6,
   "id": "c9b0ba25",
   "metadata": {},
   "outputs": [
    {
     "data": {
      "text/plain": [
       "<visisipy.optiland.models.OptilandEye at 0x28c89eadb20>"
      ]
     },
     "execution_count": 6,
     "metadata": {},
     "output_type": "execute_result"
    }
   ],
   "source": [
    "import visisipy\n",
    "\n",
    "visisipy.set_backend(\"optiland\")\n",
    "\n",
    "example_model = visisipy.EyeModel(\n",
    "    geometry=visisipy.NavarroGeometry(\n",
    "        cornea_front=ToroidalSurface(\n",
    "            radius=7.72, asphericity=-0.26, thickness=0.55, rotation_radius=5, coeffs_poly_y=[0.0, 0.0]\n",
    "        )\n",
    "    )\n",
    ")\n",
    "\n",
    "example_model.build()"
   ]
  },
  {
   "cell_type": "markdown",
   "id": "40125f38",
   "metadata": {},
   "source": [
    "To check if the surface was created correctly, we can inspect the `Optic` object in the Optiland backend.\n",
    "Let's print the system information and draw the eye model!"
   ]
  },
  {
   "cell_type": "code",
   "execution_count": 7,
   "id": "9ad88757",
   "metadata": {},
   "outputs": [
    {
     "name": "stdout",
     "output_type": "stream",
     "text": [
      "╒════╤═══════════════╤═══════════════════════╤══════════╤═════════════╤═══════════════╤═════════╤═════════════════╕\n",
      "│    │ Type          │ Comment               │   Radius │   Thickness │ Material      │   Conic │   Semi-aperture │\n",
      "╞════╪═══════════════╪═══════════════════════╪══════════╪═════════════╪═══════════════╪═════════╪═════════════════╡\n",
      "│  0 │ Planar        │                       │    inf   │    inf      │ Air           │  0      │        1.66242  │\n",
      "│  1 │ Toroidal      │ cornea front          │      5   │      0.55   │ 1.3761, 53.05 │  0      │        1.66242  │\n",
      "│  2 │ Standard      │ cornea back / aqueous │      6.5 │      3.05   │ 1.3375, 48.50 │  0      │        1.61228  │\n",
      "│  3 │ Stop - Planar │ pupil                 │    inf   │      0      │ 1.3375, 48.50 │  0      │        1.348    │\n",
      "│  4 │ Standard      │ lens front            │     10.2 │      4      │ 1.4201, 46.38 │ -3.1316 │        1.348    │\n",
      "│  5 │ Standard      │ lens back / vitreous  │     -6   │     16.3203 │ 1.3361, 49.69 │ -1      │        0.990771 │\n",
      "│  6 │ Standard      │ retina                │    -12   │    nan      │ 1.3361, 49.69 │  0      │        0.729218 │\n",
      "╘════╧═══════════════╧═══════════════════════╧══════════╧═════════════╧═══════════════╧═════════╧═════════════════╛\n"
     ]
    },
    {
     "data": {
      "image/png": "[encoded data removed]",
      "text/plain": [
       "<Figure size 1000x400 with 1 Axes>"
      ]
     },
     "metadata": {},
     "output_type": "display_data"
    }
   ],
   "source": [
    "optic = visisipy.get_optic()\n",
    "\n",
    "optic.info()\n",
    "optic.draw()"
   ]
  },
  {
   "cell_type": "markdown",
   "id": "84612eb2",
   "metadata": {},
   "source": [
    "As shown above, the `Optic` object contains the toroidal surface with the correct parameters.\n",
    "For more information about the surface, we can inspect the `geometry` attribute of the surface object."
   ]
  },
  {
   "cell_type": "code",
   "execution_count": 8,
   "id": "1ed82ba5",
   "metadata": {},
   "outputs": [
    {
     "data": {
      "text/plain": [
       "{'type': 'ToroidalGeometry',\n",
       " 'cs': {'x': 0.0,\n",
       "  'y': 0.0,\n",
       "  'z': 0.0,\n",
       "  'rx': 0.0,\n",
       "  'ry': 0.0,\n",
       "  'rz': 0.0,\n",
       "  'reference_cs': None},\n",
       " 'tol': 1e-06,\n",
       " 'max_iter': 100,\n",
       " 'geometry_type': 'Toroidal',\n",
       " 'radius_rotation': array(5.),\n",
       " 'radius_yz': array(7.72),\n",
       " 'conic_yz': array(-0.26),\n",
       " 'coeffs_poly_y': [0.0, 0.0]}"
      ]
     },
     "execution_count": 8,
     "metadata": {},
     "output_type": "execute_result"
    }
   ],
   "source": [
    "# Show the full geometry of the toroidal surface\n",
    "\n",
    "optic.surface_group.surfaces[1].geometry.to_dict()"
   ]
  },
  {
   "cell_type": "markdown",
   "id": "42d615f6",
   "metadata": {},
   "source": [
    "## Contributing custom surfaces\n",
    "\n",
    "If you developed a custom surface type, please consider [contributing](../contributing.md) it to Visisipy.\n",
    "For more details on the full implementation of new surface types, we recommend checking the source code of the existing surfaces in {py:mod}`visisipy.models.geometry`, {py:mod}`visisipy.optiland.surfaces`, and {py:mod}`visisipy.opticstudio.surfaces`.\n"
   ]
  }
 ],
 "metadata": {
  "kernelspec": {
   "display_name": "visisipy (3.12.1)",
   "language": "python",
   "name": "python3"
  },
  "language_info": {
   "codemirror_mode": {
    "name": "ipython",
    "version": 3
   },
   "file_extension": ".py",
   "mimetype": "text/x-python",
   "name": "python",
   "nbconvert_exporter": "python",
   "pygments_lexer": "ipython3",
   "version": "3.12.1"
  }
 },
 "nbformat": 4,
 "nbformat_minor": 5
}
