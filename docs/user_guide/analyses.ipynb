{
 "cells": [
  {
   "cell_type": "markdown",
   "id": "1a002bd814f0fa10",
   "metadata": {},
   "source": [
    "# Performing analyses\n",
    "\n",
    "Being able to define and build eye models is nice, but being able to analyze them is at least as important.\n",
    "Visisipy provides a suite of analyses than can be performed on eye models in the {py:mod}`visisipy.analysis` module.\n",
    "\n",
    "Analyses are functions with the following signature:\n",
    "\n",
    "```python\n",
    "analysis(model: EyeModel, [parameters], return_raw_result: bool, backend: type[BaseBackend]) -> AnalysisResult\n",
    "```\n",
    "\n",
    "- `model` is the eye model to be analyzed. This parameter is optional. If not provided, the eye model that is currently built in the backend is used.\n",
    "- `parameters` are the parameters to be passed to the analysis. These parameters are specific to each analysis.\n",
    "- `return_raw_result` is a boolean that indicates whether to return the raw result from the backend. This parameter is optional and defaults to `False`.\n",
    "- `backend` is the backend to be used for the analysis. This parameter is optional and defaults to the currently selected backend. If no backend has been initialized, the default backend is initialized first.\n",
    "\n",
    "The example below shows how to calculate the refraction of the eye model using the `refraction` analysis."
   ]
  },
  {
   "cell_type": "code",
   "execution_count": 1,
   "id": "initial_id",
   "metadata": {
    "ExecuteTime": {
     "end_time": "2025-04-23T11:40:21.526973Z",
     "start_time": "2025-04-23T11:40:15.731172Z"
    },
    "collapsed": true
   },
   "outputs": [
    {
     "name": "stdout",
     "output_type": "stream",
     "text": [
      "FourierPowerVectorRefraction(M=np.float64(-0.02179465768797834), J0=np.float64(-3.6343165496002543e-09), J45=np.float64(7.798322904498727e-13))\n"
     ]
    }
   ],
   "source": [
    "import matplotlib.pyplot as plt\n",
    "\n",
    "import visisipy\n",
    "\n",
    "# Perform all calculations in Optiland\n",
    "visisipy.set_backend(\"optiland\")\n",
    "\n",
    "# Use the Navarro model\n",
    "model = visisipy.EyeModel()\n",
    "\n",
    "# Build the model in the backend\n",
    "model.build()\n",
    "\n",
    "# Perform the refraction analysis\n",
    "refraction = visisipy.analysis.refraction()\n",
    "\n",
    "print(refraction)"
   ]
  },
  {
   "cell_type": "markdown",
   "id": "b4e9800677a0cfba",
   "metadata": {},
   "source": [
    "Alternatively, the model can be defined without building it, and passed to the analysis to build it:"
   ]
  },
  {
   "cell_type": "code",
   "execution_count": 2,
   "id": "81d70ddbf244b0c0",
   "metadata": {
    "ExecuteTime": {
     "end_time": "2025-04-23T11:40:24.045875Z",
     "start_time": "2025-04-23T11:40:21.786793Z"
    }
   },
   "outputs": [
    {
     "name": "stdout",
     "output_type": "stream",
     "text": [
      "FourierPowerVectorRefraction(M=np.float64(-7.495269457585803), J0=np.float64(-3.6607862867854694e-09), J45=np.float64(1.3723242950814183e-12))\n"
     ]
    }
   ],
   "source": [
    "myopic_model = visisipy.EyeModel(visisipy.create_geometry(axial_length=26.5))\n",
    "\n",
    "refraction_myopic = visisipy.analysis.refraction(myopic_model)\n",
    "\n",
    "print(refraction_myopic)"
   ]
  },
  {
   "cell_type": "markdown",
   "id": "778b34552415c1ba",
   "metadata": {},
   "source": [
    "## Analyses available in Visisipy\n",
    "\n",
    "### {py:func}`Cardinal points <visisipy.analysis.cardinal_points.cardinal_points>`\n",
    "\n",
    "Calculates the cardinal points of the eye.\n",
    "Note that not all backends support all cardinal points; if a backend does not support a cardinal point, it will be set to `NotImplemented` in the result."
   ]
  },
  {
   "cell_type": "code",
   "execution_count": 3,
   "id": "9de28d05d7331f73",
   "metadata": {
    "ExecuteTime": {
     "end_time": "2025-04-23T11:40:24.092238Z",
     "start_time": "2025-04-23T11:40:24.063601Z"
    }
   },
   "outputs": [
    {
     "data": {
      "text/plain": [
       "CardinalPointsResult(focal_lengths=CardinalPoints(object=np.float64(-16.46395572885349), image=np.float64(22.021982081505797)), focal_points=CardinalPoints(object=np.float64(-7.250149109263879), image=np.float64(-0.006670375453102611)), principal_points=CardinalPoints(object=np.float64(9.213806619589612), image=np.float64(-22.0286524569589)), anti_principal_points=CardinalPoints(object=np.float64(-23.714104838117372), image=np.float64(22.015311706052696)), nodal_points=CardinalPoints(object=np.float64(14.771832972241917), image=np.float64(-16.470626104306593)), anti_nodal_points=CardinalPoints(object=np.float64(-29.272131190769677), image=np.float64(16.45728535340039)))"
      ]
     },
     "execution_count": 3,
     "metadata": {},
     "output_type": "execute_result"
    }
   ],
   "source": [
    "# Revert to the emmetropic model\n",
    "model.build()\n",
    "\n",
    "visisipy.analysis.cardinal_points()"
   ]
  },
  {
   "cell_type": "markdown",
   "id": "525074bf",
   "metadata": {},
   "source": [
    "### {py:func}`FFT Point Spread Function <visisipy.analysis.psf.fft_psf>`\n",
    "\n",
    "Calculates the point spread function (PSF) of the eye using the Fast Fourier Transform (FFT).\n",
    "Compared to the Huygens PSF, the FFT PSF is faster to compute, but may be inaccurate for certain eye models."
   ]
  },
  {
   "cell_type": "code",
   "execution_count": 4,
   "id": "53e5de79",
   "metadata": {},
   "outputs": [
    {
     "data": {
      "image/png": "[encoded data removed]",
      "text/plain": [
       "<Figure size 640x480 with 1 Axes>"
      ]
     },
     "metadata": {},
     "output_type": "display_data"
    }
   ],
   "source": [
    "fft_psf = visisipy.analysis.fft_psf(field_coordinate=(0, 0))\n",
    "\n",
    "plt.imshow(\n",
    "    fft_psf, extent=(fft_psf.columns[0], fft_psf.columns[-1], fft_psf.index[-1], fft_psf.index[0]), origin=\"lower\"\n",
    ")\n",
    "plt.xlabel(\"X [μm]\")\n",
    "plt.ylabel(\"Y [μm]\");"
   ]
  },
  {
   "cell_type": "markdown",
   "id": "a81aef29fa3dade4",
   "metadata": {},
   "source": [
    "### {py:func}`Raytrace <visisipy.analysis.raytracing.raytrace>`\n",
    "\n",
    "Performs one or more single ray traces through the eye model."
   ]
  },
  {
   "cell_type": "code",
   "execution_count": 5,
   "id": "91bb04dbfe8a7f60",
   "metadata": {
    "ExecuteTime": {
     "end_time": "2025-04-23T11:56:53.346313Z",
     "start_time": "2025-04-23T11:56:53.306616Z"
    }
   },
   "outputs": [
    {
     "data": {
      "application/vnd.microsoft.datawrangler.viewer.v0+json": {
       "columns": [
        {
         "name": "index",
         "rawType": "int64",
         "type": "integer"
        },
        {
         "name": "index",
         "rawType": "int64",
         "type": "integer"
        },
        {
         "name": "field",
         "rawType": "object",
         "type": "unknown"
        },
        {
         "name": "wavelength",
         "rawType": "float64",
         "type": "float"
        },
        {
         "name": "surface",
         "rawType": "int64",
         "type": "integer"
        },
        {
         "name": "comment",
         "rawType": "object",
         "type": "unknown"
        },
        {
         "name": "x",
         "rawType": "float64",
         "type": "float"
        },
        {
         "name": "y",
         "rawType": "float64",
         "type": "float"
        },
        {
         "name": "z",
         "rawType": "float64",
         "type": "float"
        }
       ],
       "ref": "a8da917e-70d4-4ddf-95c9-3fe10ef35a97",
       "rows": [
        [
         "0",
         "0",
         "(0, 0)",
         "0.543",
         "0",
         null,
         "0.0",
         "0.0",
         "-1.0"
        ],
        [
         "1",
         "1",
         "(0, 0)",
         "0.543",
         "1",
         null,
         "0.0",
         "0.0",
         "-8.881784197001252e-16"
        ],
        [
         "2",
         "2",
         "(0, 0)",
         "0.543",
         "2",
         null,
         "0.0",
         "0.0",
         "0.5500000000000007"
        ],
        [
         "3",
         "3",
         "(0, 0)",
         "0.543",
         "3",
         null,
         "0.0",
         "0.0",
         "3.5999999999999996"
        ],
        [
         "4",
         "4",
         "(0, 0)",
         "0.543",
         "4",
         null,
         "0.0",
         "0.0",
         "3.5999999999999996"
        ],
        [
         "5",
         "5",
         "(0, 0)",
         "0.543",
         "5",
         null,
         "0.0",
         "0.0",
         "7.6"
        ],
        [
         "6",
         "6",
         "(0, 0)",
         "0.543",
         "6",
         null,
         "0.0",
         "0.0",
         "23.9203"
        ],
        [
         "7",
         "0",
         "(0, 30)",
         "0.543",
         "0",
         null,
         "0.0",
         "-2.332464486927345",
         "-1.0"
        ],
        [
         "8",
         "1",
         "(0, 30)",
         "0.543",
         "1",
         null,
         "0.0",
         "-1.6521642912469998",
         "0.17831450331740673"
        ],
        [
         "9",
         "2",
         "(0, 30)",
         "0.543",
         "2",
         null,
         "0.0",
         "-1.4065444636334",
         "0.7040065654129273"
        ],
        [
         "10",
         "3",
         "(0, 30)",
         "0.543",
         "3",
         null,
         "0.0",
         "-0.03074656725029712",
         "3.5999999999999996"
        ],
        [
         "11",
         "4",
         "(0, 30)",
         "0.543",
         "4",
         null,
         "0.0",
         "-0.030724583751369258",
         "3.6000462742883466"
        ],
        [
         "12",
         "5",
         "(0, 30)",
         "0.543",
         "5",
         null,
         "0.0",
         "1.6381796602136733",
         "7.376363950071855"
        ],
        [
         "13",
         "6",
         "(0, 30)",
         "0.543",
         "6",
         null,
         "0.0",
         "7.823641321596797",
         "21.019236007633154"
        ],
        [
         "14",
         "0",
         "(0, 60)",
         "0.543",
         "0",
         null,
         "0.0",
         "-6.997393460782033",
         "-1.0"
        ],
        [
         "15",
         "1",
         "(0, 60)",
         "0.543",
         "1",
         null,
         "0.0",
         "-3.6780536243450133",
         "0.9164217480987622"
        ],
        [
         "16",
         "2",
         "(0, 60)",
         "0.543",
         "2",
         null,
         "0.0",
         "-3.141120798006906",
         "1.359362062797488"
        ],
        [
         "17",
         "3",
         "(0, 60)",
         "0.543",
         "3",
         null,
         "0.0",
         "-0.3609469356494581",
         "3.5999999999999996"
        ],
        [
         "18",
         "4",
         "(0, 60)",
         "0.543",
         "4",
         null,
         "0.0",
         "-0.35335730292428263",
         "3.6061167465976536"
        ],
        [
         "19",
         "5",
         "(0, 60)",
         "0.543",
         "5",
         null,
         "0.0",
         "3.1121163302666677",
         "6.792894328907293"
        ],
        [
         "20",
         "6",
         "(0, 60)",
         "0.543",
         "6",
         null,
         "0.0",
         "11.746713582409178",
         "14.372792612189432"
        ],
        [
         "21",
         "0",
         "(0, 0)",
         "0.6328",
         "0",
         null,
         "0.0",
         "0.0",
         "-1.0"
        ],
        [
         "22",
         "1",
         "(0, 0)",
         "0.6328",
         "1",
         null,
         "0.0",
         "0.0",
         "-8.881784197001252e-16"
        ],
        [
         "23",
         "2",
         "(0, 0)",
         "0.6328",
         "2",
         null,
         "0.0",
         "0.0",
         "0.5499999999999998"
        ],
        [
         "24",
         "3",
         "(0, 0)",
         "0.6328",
         "3",
         null,
         "0.0",
         "0.0",
         "3.5999999999999996"
        ],
        [
         "25",
         "4",
         "(0, 0)",
         "0.6328",
         "4",
         null,
         "0.0",
         "0.0",
         "3.5999999999999996"
        ],
        [
         "26",
         "5",
         "(0, 0)",
         "0.6328",
         "5",
         null,
         "0.0",
         "0.0",
         "7.6000000000000005"
        ],
        [
         "27",
         "6",
         "(0, 0)",
         "0.6328",
         "6",
         null,
         "0.0",
         "0.0",
         "23.9203"
        ],
        [
         "28",
         "0",
         "(0, 30)",
         "0.6328",
         "0",
         null,
         "0.0",
         "-2.332464486927345",
         "-1.0"
        ],
        [
         "29",
         "1",
         "(0, 30)",
         "0.6328",
         "1",
         null,
         "0.0",
         "-1.6521642912469998",
         "0.17831450331740673"
        ],
        [
         "30",
         "2",
         "(0, 30)",
         "0.6328",
         "2",
         null,
         "0.0",
         "-1.4062460130061307",
         "0.703940423309567"
        ],
        [
         "31",
         "3",
         "(0, 30)",
         "0.6328",
         "3",
         null,
         "0.0",
         "-0.028409138003213652",
         "3.5999999999999996"
        ],
        [
         "32",
         "4",
         "(0, 30)",
         "0.6328",
         "4",
         null,
         "0.0",
         "-0.02839034052652988",
         "3.600039510201356"
        ],
        [
         "33",
         "5",
         "(0, 30)",
         "0.6328",
         "5",
         null,
         "0.0",
         "1.6431252655675184",
         "7.375011613471139"
        ],
        [
         "34",
         "6",
         "(0, 30)",
         "0.6328",
         "6",
         null,
         "0.0",
         "7.8349532715983825",
         "21.00949728204145"
        ],
        [
         "35",
         "0",
         "(0, 60)",
         "0.6328",
         "0",
         null,
         "0.0",
         "-6.997393460782033",
         "-1.0"
        ],
        [
         "36",
         "1",
         "(0, 60)",
         "0.6328",
         "1",
         null,
         "0.0",
         "-3.6780536243450133",
         "0.9164217480987622"
        ],
        [
         "37",
         "2",
         "(0, 60)",
         "0.6328",
         "2",
         null,
         "0.0",
         "-3.140491881399921",
         "1.3590149584750106"
        ],
        [
         "38",
         "3",
         "(0, 60)",
         "0.6328",
         "3",
         null,
         "0.0",
         "-0.3538683798480555",
         "3.5999999999999996"
        ],
        [
         "39",
         "4",
         "(0, 60)",
         "0.6328",
         "4",
         null,
         "0.0",
         "-0.34655227747611",
         "3.605883563376489"
        ],
        [
         "40",
         "5",
         "(0, 60)",
         "0.6328",
         "5",
         null,
         "0.0",
         "3.1224463612989917",
         "6.7875273934008895"
        ],
        [
         "41",
         "6",
         "(0, 60)",
         "0.6328",
         "6",
         null,
         "0.0",
         "11.752176078350175",
         "14.346481655081474"
        ]
       ],
       "shape": {
        "columns": 8,
        "rows": 42
       }
      },
      "text/html": [
       "<div>\n",
       "<style scoped>\n",
       "    .dataframe tbody tr th:only-of-type {\n",
       "        vertical-align: middle;\n",
       "    }\n",
       "\n",
       "    .dataframe tbody tr th {\n",
       "        vertical-align: top;\n",
       "    }\n",
       "\n",
       "    .dataframe thead th {\n",
       "        text-align: right;\n",
       "    }\n",
       "</style>\n",
       "<table border=\"1\" class=\"dataframe\">\n",
       "  <thead>\n",
       "    <tr style=\"text-align: right;\">\n",
       "      <th></th>\n",
       "      <th>index</th>\n",
       "      <th>field</th>\n",
       "      <th>wavelength</th>\n",
       "      <th>surface</th>\n",
       "      <th>comment</th>\n",
       "      <th>x</th>\n",
       "      <th>y</th>\n",
       "      <th>z</th>\n",
       "    </tr>\n",
       "  </thead>\n",
       "  <tbody>\n",
       "    <tr>\n",
       "      <th>0</th>\n",
       "      <td>0</td>\n",
       "      <td>(0, 0)</td>\n",
       "      <td>0.5430</td>\n",
       "      <td>0</td>\n",
       "      <td>None</td>\n",
       "      <td>0.0</td>\n",
       "      <td>0.000000</td>\n",
       "      <td>-1.000000e+00</td>\n",
       "    </tr>\n",
       "    <tr>\n",
       "      <th>1</th>\n",
       "      <td>1</td>\n",
       "      <td>(0, 0)</td>\n",
       "      <td>0.5430</td>\n",
       "      <td>1</td>\n",
       "      <td>None</td>\n",
       "      <td>0.0</td>\n",
       "      <td>0.000000</td>\n",
       "      <td>-8.881784e-16</td>\n",
       "    </tr>\n",
       "    <tr>\n",
       "      <th>2</th>\n",
       "      <td>2</td>\n",
       "      <td>(0, 0)</td>\n",
       "      <td>0.5430</td>\n",
       "      <td>2</td>\n",
       "      <td>None</td>\n",
       "      <td>0.0</td>\n",
       "      <td>0.000000</td>\n",
       "      <td>5.500000e-01</td>\n",
       "    </tr>\n",
       "    <tr>\n",
       "      <th>3</th>\n",
       "      <td>3</td>\n",
       "      <td>(0, 0)</td>\n",
       "      <td>0.5430</td>\n",
       "      <td>3</td>\n",
       "      <td>None</td>\n",
       "      <td>0.0</td>\n",
       "      <td>0.000000</td>\n",
       "      <td>3.600000e+00</td>\n",
       "    </tr>\n",
       "    <tr>\n",
       "      <th>4</th>\n",
       "      <td>4</td>\n",
       "      <td>(0, 0)</td>\n",
       "      <td>0.5430</td>\n",
       "      <td>4</td>\n",
       "      <td>None</td>\n",
       "      <td>0.0</td>\n",
       "      <td>0.000000</td>\n",
       "      <td>3.600000e+00</td>\n",
       "    </tr>\n",
       "    <tr>\n",
       "      <th>5</th>\n",
       "      <td>5</td>\n",
       "      <td>(0, 0)</td>\n",
       "      <td>0.5430</td>\n",
       "      <td>5</td>\n",
       "      <td>None</td>\n",
       "      <td>0.0</td>\n",
       "      <td>0.000000</td>\n",
       "      <td>7.600000e+00</td>\n",
       "    </tr>\n",
       "    <tr>\n",
       "      <th>6</th>\n",
       "      <td>6</td>\n",
       "      <td>(0, 0)</td>\n",
       "      <td>0.5430</td>\n",
       "      <td>6</td>\n",
       "      <td>None</td>\n",
       "      <td>0.0</td>\n",
       "      <td>0.000000</td>\n",
       "      <td>2.392030e+01</td>\n",
       "    </tr>\n",
       "    <tr>\n",
       "      <th>7</th>\n",
       "      <td>0</td>\n",
       "      <td>(0, 30)</td>\n",
       "      <td>0.5430</td>\n",
       "      <td>0</td>\n",
       "      <td>None</td>\n",
       "      <td>0.0</td>\n",
       "      <td>-2.332464</td>\n",
       "      <td>-1.000000e+00</td>\n",
       "    </tr>\n",
       "    <tr>\n",
       "      <th>8</th>\n",
       "      <td>1</td>\n",
       "      <td>(0, 30)</td>\n",
       "      <td>0.5430</td>\n",
       "      <td>1</td>\n",
       "      <td>None</td>\n",
       "      <td>0.0</td>\n",
       "      <td>-1.652164</td>\n",
       "      <td>1.783145e-01</td>\n",
       "    </tr>\n",
       "    <tr>\n",
       "      <th>9</th>\n",
       "      <td>2</td>\n",
       "      <td>(0, 30)</td>\n",
       "      <td>0.5430</td>\n",
       "      <td>2</td>\n",
       "      <td>None</td>\n",
       "      <td>0.0</td>\n",
       "      <td>-1.406544</td>\n",
       "      <td>7.040066e-01</td>\n",
       "    </tr>\n",
       "    <tr>\n",
       "      <th>10</th>\n",
       "      <td>3</td>\n",
       "      <td>(0, 30)</td>\n",
       "      <td>0.5430</td>\n",
       "      <td>3</td>\n",
       "      <td>None</td>\n",
       "      <td>0.0</td>\n",
       "      <td>-0.030747</td>\n",
       "      <td>3.600000e+00</td>\n",
       "    </tr>\n",
       "    <tr>\n",
       "      <th>11</th>\n",
       "      <td>4</td>\n",
       "      <td>(0, 30)</td>\n",
       "      <td>0.5430</td>\n",
       "      <td>4</td>\n",
       "      <td>None</td>\n",
       "      <td>0.0</td>\n",
       "      <td>-0.030725</td>\n",
       "      <td>3.600046e+00</td>\n",
       "    </tr>\n",
       "    <tr>\n",
       "      <th>12</th>\n",
       "      <td>5</td>\n",
       "      <td>(0, 30)</td>\n",
       "      <td>0.5430</td>\n",
       "      <td>5</td>\n",
       "      <td>None</td>\n",
       "      <td>0.0</td>\n",
       "      <td>1.638180</td>\n",
       "      <td>7.376364e+00</td>\n",
       "    </tr>\n",
       "    <tr>\n",
       "      <th>13</th>\n",
       "      <td>6</td>\n",
       "      <td>(0, 30)</td>\n",
       "      <td>0.5430</td>\n",
       "      <td>6</td>\n",
       "      <td>None</td>\n",
       "      <td>0.0</td>\n",
       "      <td>7.823641</td>\n",
       "      <td>2.101924e+01</td>\n",
       "    </tr>\n",
       "    <tr>\n",
       "      <th>14</th>\n",
       "      <td>0</td>\n",
       "      <td>(0, 60)</td>\n",
       "      <td>0.5430</td>\n",
       "      <td>0</td>\n",
       "      <td>None</td>\n",
       "      <td>0.0</td>\n",
       "      <td>-6.997393</td>\n",
       "      <td>-1.000000e+00</td>\n",
       "    </tr>\n",
       "    <tr>\n",
       "      <th>15</th>\n",
       "      <td>1</td>\n",
       "      <td>(0, 60)</td>\n",
       "      <td>0.5430</td>\n",
       "      <td>1</td>\n",
       "      <td>None</td>\n",
       "      <td>0.0</td>\n",
       "      <td>-3.678054</td>\n",
       "      <td>9.164217e-01</td>\n",
       "    </tr>\n",
       "    <tr>\n",
       "      <th>16</th>\n",
       "      <td>2</td>\n",
       "      <td>(0, 60)</td>\n",
       "      <td>0.5430</td>\n",
       "      <td>2</td>\n",
       "      <td>None</td>\n",
       "      <td>0.0</td>\n",
       "      <td>-3.141121</td>\n",
       "      <td>1.359362e+00</td>\n",
       "    </tr>\n",
       "    <tr>\n",
       "      <th>17</th>\n",
       "      <td>3</td>\n",
       "      <td>(0, 60)</td>\n",
       "      <td>0.5430</td>\n",
       "      <td>3</td>\n",
       "      <td>None</td>\n",
       "      <td>0.0</td>\n",
       "      <td>-0.360947</td>\n",
       "      <td>3.600000e+00</td>\n",
       "    </tr>\n",
       "    <tr>\n",
       "      <th>18</th>\n",
       "      <td>4</td>\n",
       "      <td>(0, 60)</td>\n",
       "      <td>0.5430</td>\n",
       "      <td>4</td>\n",
       "      <td>None</td>\n",
       "      <td>0.0</td>\n",
       "      <td>-0.353357</td>\n",
       "      <td>3.606117e+00</td>\n",
       "    </tr>\n",
       "    <tr>\n",
       "      <th>19</th>\n",
       "      <td>5</td>\n",
       "      <td>(0, 60)</td>\n",
       "      <td>0.5430</td>\n",
       "      <td>5</td>\n",
       "      <td>None</td>\n",
       "      <td>0.0</td>\n",
       "      <td>3.112116</td>\n",
       "      <td>6.792894e+00</td>\n",
       "    </tr>\n",
       "    <tr>\n",
       "      <th>20</th>\n",
       "      <td>6</td>\n",
       "      <td>(0, 60)</td>\n",
       "      <td>0.5430</td>\n",
       "      <td>6</td>\n",
       "      <td>None</td>\n",
       "      <td>0.0</td>\n",
       "      <td>11.746714</td>\n",
       "      <td>1.437279e+01</td>\n",
       "    </tr>\n",
       "    <tr>\n",
       "      <th>21</th>\n",
       "      <td>0</td>\n",
       "      <td>(0, 0)</td>\n",
       "      <td>0.6328</td>\n",
       "      <td>0</td>\n",
       "      <td>None</td>\n",
       "      <td>0.0</td>\n",
       "      <td>0.000000</td>\n",
       "      <td>-1.000000e+00</td>\n",
       "    </tr>\n",
       "    <tr>\n",
       "      <th>22</th>\n",
       "      <td>1</td>\n",
       "      <td>(0, 0)</td>\n",
       "      <td>0.6328</td>\n",
       "      <td>1</td>\n",
       "      <td>None</td>\n",
       "      <td>0.0</td>\n",
       "      <td>0.000000</td>\n",
       "      <td>-8.881784e-16</td>\n",
       "    </tr>\n",
       "    <tr>\n",
       "      <th>23</th>\n",
       "      <td>2</td>\n",
       "      <td>(0, 0)</td>\n",
       "      <td>0.6328</td>\n",
       "      <td>2</td>\n",
       "      <td>None</td>\n",
       "      <td>0.0</td>\n",
       "      <td>0.000000</td>\n",
       "      <td>5.500000e-01</td>\n",
       "    </tr>\n",
       "    <tr>\n",
       "      <th>24</th>\n",
       "      <td>3</td>\n",
       "      <td>(0, 0)</td>\n",
       "      <td>0.6328</td>\n",
       "      <td>3</td>\n",
       "      <td>None</td>\n",
       "      <td>0.0</td>\n",
       "      <td>0.000000</td>\n",
       "      <td>3.600000e+00</td>\n",
       "    </tr>\n",
       "    <tr>\n",
       "      <th>25</th>\n",
       "      <td>4</td>\n",
       "      <td>(0, 0)</td>\n",
       "      <td>0.6328</td>\n",
       "      <td>4</td>\n",
       "      <td>None</td>\n",
       "      <td>0.0</td>\n",
       "      <td>0.000000</td>\n",
       "      <td>3.600000e+00</td>\n",
       "    </tr>\n",
       "    <tr>\n",
       "      <th>26</th>\n",
       "      <td>5</td>\n",
       "      <td>(0, 0)</td>\n",
       "      <td>0.6328</td>\n",
       "      <td>5</td>\n",
       "      <td>None</td>\n",
       "      <td>0.0</td>\n",
       "      <td>0.000000</td>\n",
       "      <td>7.600000e+00</td>\n",
       "    </tr>\n",
       "    <tr>\n",
       "      <th>27</th>\n",
       "      <td>6</td>\n",
       "      <td>(0, 0)</td>\n",
       "      <td>0.6328</td>\n",
       "      <td>6</td>\n",
       "      <td>None</td>\n",
       "      <td>0.0</td>\n",
       "      <td>0.000000</td>\n",
       "      <td>2.392030e+01</td>\n",
       "    </tr>\n",
       "    <tr>\n",
       "      <th>28</th>\n",
       "      <td>0</td>\n",
       "      <td>(0, 30)</td>\n",
       "      <td>0.6328</td>\n",
       "      <td>0</td>\n",
       "      <td>None</td>\n",
       "      <td>0.0</td>\n",
       "      <td>-2.332464</td>\n",
       "      <td>-1.000000e+00</td>\n",
       "    </tr>\n",
       "    <tr>\n",
       "      <th>29</th>\n",
       "      <td>1</td>\n",
       "      <td>(0, 30)</td>\n",
       "      <td>0.6328</td>\n",
       "      <td>1</td>\n",
       "      <td>None</td>\n",
       "      <td>0.0</td>\n",
       "      <td>-1.652164</td>\n",
       "      <td>1.783145e-01</td>\n",
       "    </tr>\n",
       "    <tr>\n",
       "      <th>30</th>\n",
       "      <td>2</td>\n",
       "      <td>(0, 30)</td>\n",
       "      <td>0.6328</td>\n",
       "      <td>2</td>\n",
       "      <td>None</td>\n",
       "      <td>0.0</td>\n",
       "      <td>-1.406246</td>\n",
       "      <td>7.039404e-01</td>\n",
       "    </tr>\n",
       "    <tr>\n",
       "      <th>31</th>\n",
       "      <td>3</td>\n",
       "      <td>(0, 30)</td>\n",
       "      <td>0.6328</td>\n",
       "      <td>3</td>\n",
       "      <td>None</td>\n",
       "      <td>0.0</td>\n",
       "      <td>-0.028409</td>\n",
       "      <td>3.600000e+00</td>\n",
       "    </tr>\n",
       "    <tr>\n",
       "      <th>32</th>\n",
       "      <td>4</td>\n",
       "      <td>(0, 30)</td>\n",
       "      <td>0.6328</td>\n",
       "      <td>4</td>\n",
       "      <td>None</td>\n",
       "      <td>0.0</td>\n",
       "      <td>-0.028390</td>\n",
       "      <td>3.600040e+00</td>\n",
       "    </tr>\n",
       "    <tr>\n",
       "      <th>33</th>\n",
       "      <td>5</td>\n",
       "      <td>(0, 30)</td>\n",
       "      <td>0.6328</td>\n",
       "      <td>5</td>\n",
       "      <td>None</td>\n",
       "      <td>0.0</td>\n",
       "      <td>1.643125</td>\n",
       "      <td>7.375012e+00</td>\n",
       "    </tr>\n",
       "    <tr>\n",
       "      <th>34</th>\n",
       "      <td>6</td>\n",
       "      <td>(0, 30)</td>\n",
       "      <td>0.6328</td>\n",
       "      <td>6</td>\n",
       "      <td>None</td>\n",
       "      <td>0.0</td>\n",
       "      <td>7.834953</td>\n",
       "      <td>2.100950e+01</td>\n",
       "    </tr>\n",
       "    <tr>\n",
       "      <th>35</th>\n",
       "      <td>0</td>\n",
       "      <td>(0, 60)</td>\n",
       "      <td>0.6328</td>\n",
       "      <td>0</td>\n",
       "      <td>None</td>\n",
       "      <td>0.0</td>\n",
       "      <td>-6.997393</td>\n",
       "      <td>-1.000000e+00</td>\n",
       "    </tr>\n",
       "    <tr>\n",
       "      <th>36</th>\n",
       "      <td>1</td>\n",
       "      <td>(0, 60)</td>\n",
       "      <td>0.6328</td>\n",
       "      <td>1</td>\n",
       "      <td>None</td>\n",
       "      <td>0.0</td>\n",
       "      <td>-3.678054</td>\n",
       "      <td>9.164217e-01</td>\n",
       "    </tr>\n",
       "    <tr>\n",
       "      <th>37</th>\n",
       "      <td>2</td>\n",
       "      <td>(0, 60)</td>\n",
       "      <td>0.6328</td>\n",
       "      <td>2</td>\n",
       "      <td>None</td>\n",
       "      <td>0.0</td>\n",
       "      <td>-3.140492</td>\n",
       "      <td>1.359015e+00</td>\n",
       "    </tr>\n",
       "    <tr>\n",
       "      <th>38</th>\n",
       "      <td>3</td>\n",
       "      <td>(0, 60)</td>\n",
       "      <td>0.6328</td>\n",
       "      <td>3</td>\n",
       "      <td>None</td>\n",
       "      <td>0.0</td>\n",
       "      <td>-0.353868</td>\n",
       "      <td>3.600000e+00</td>\n",
       "    </tr>\n",
       "    <tr>\n",
       "      <th>39</th>\n",
       "      <td>4</td>\n",
       "      <td>(0, 60)</td>\n",
       "      <td>0.6328</td>\n",
       "      <td>4</td>\n",
       "      <td>None</td>\n",
       "      <td>0.0</td>\n",
       "      <td>-0.346552</td>\n",
       "      <td>3.605884e+00</td>\n",
       "    </tr>\n",
       "    <tr>\n",
       "      <th>40</th>\n",
       "      <td>5</td>\n",
       "      <td>(0, 60)</td>\n",
       "      <td>0.6328</td>\n",
       "      <td>5</td>\n",
       "      <td>None</td>\n",
       "      <td>0.0</td>\n",
       "      <td>3.122446</td>\n",
       "      <td>6.787527e+00</td>\n",
       "    </tr>\n",
       "    <tr>\n",
       "      <th>41</th>\n",
       "      <td>6</td>\n",
       "      <td>(0, 60)</td>\n",
       "      <td>0.6328</td>\n",
       "      <td>6</td>\n",
       "      <td>None</td>\n",
       "      <td>0.0</td>\n",
       "      <td>11.752176</td>\n",
       "      <td>1.434648e+01</td>\n",
       "    </tr>\n",
       "  </tbody>\n",
       "</table>\n",
       "</div>"
      ],
      "text/plain": [
       "    index    field  wavelength  surface comment    x          y             z\n",
       "0       0   (0, 0)      0.5430        0    None  0.0   0.000000 -1.000000e+00\n",
       "1       1   (0, 0)      0.5430        1    None  0.0   0.000000 -8.881784e-16\n",
       "2       2   (0, 0)      0.5430        2    None  0.0   0.000000  5.500000e-01\n",
       "3       3   (0, 0)      0.5430        3    None  0.0   0.000000  3.600000e+00\n",
       "4       4   (0, 0)      0.5430        4    None  0.0   0.000000  3.600000e+00\n",
       "5       5   (0, 0)      0.5430        5    None  0.0   0.000000  7.600000e+00\n",
       "6       6   (0, 0)      0.5430        6    None  0.0   0.000000  2.392030e+01\n",
       "7       0  (0, 30)      0.5430        0    None  0.0  -2.332464 -1.000000e+00\n",
       "8       1  (0, 30)      0.5430        1    None  0.0  -1.652164  1.783145e-01\n",
       "9       2  (0, 30)      0.5430        2    None  0.0  -1.406544  7.040066e-01\n",
       "10      3  (0, 30)      0.5430        3    None  0.0  -0.030747  3.600000e+00\n",
       "11      4  (0, 30)      0.5430        4    None  0.0  -0.030725  3.600046e+00\n",
       "12      5  (0, 30)      0.5430        5    None  0.0   1.638180  7.376364e+00\n",
       "13      6  (0, 30)      0.5430        6    None  0.0   7.823641  2.101924e+01\n",
       "14      0  (0, 60)      0.5430        0    None  0.0  -6.997393 -1.000000e+00\n",
       "15      1  (0, 60)      0.5430        1    None  0.0  -3.678054  9.164217e-01\n",
       "16      2  (0, 60)      0.5430        2    None  0.0  -3.141121  1.359362e+00\n",
       "17      3  (0, 60)      0.5430        3    None  0.0  -0.360947  3.600000e+00\n",
       "18      4  (0, 60)      0.5430        4    None  0.0  -0.353357  3.606117e+00\n",
       "19      5  (0, 60)      0.5430        5    None  0.0   3.112116  6.792894e+00\n",
       "20      6  (0, 60)      0.5430        6    None  0.0  11.746714  1.437279e+01\n",
       "21      0   (0, 0)      0.6328        0    None  0.0   0.000000 -1.000000e+00\n",
       "22      1   (0, 0)      0.6328        1    None  0.0   0.000000 -8.881784e-16\n",
       "23      2   (0, 0)      0.6328        2    None  0.0   0.000000  5.500000e-01\n",
       "24      3   (0, 0)      0.6328        3    None  0.0   0.000000  3.600000e+00\n",
       "25      4   (0, 0)      0.6328        4    None  0.0   0.000000  3.600000e+00\n",
       "26      5   (0, 0)      0.6328        5    None  0.0   0.000000  7.600000e+00\n",
       "27      6   (0, 0)      0.6328        6    None  0.0   0.000000  2.392030e+01\n",
       "28      0  (0, 30)      0.6328        0    None  0.0  -2.332464 -1.000000e+00\n",
       "29      1  (0, 30)      0.6328        1    None  0.0  -1.652164  1.783145e-01\n",
       "30      2  (0, 30)      0.6328        2    None  0.0  -1.406246  7.039404e-01\n",
       "31      3  (0, 30)      0.6328        3    None  0.0  -0.028409  3.600000e+00\n",
       "32      4  (0, 30)      0.6328        4    None  0.0  -0.028390  3.600040e+00\n",
       "33      5  (0, 30)      0.6328        5    None  0.0   1.643125  7.375012e+00\n",
       "34      6  (0, 30)      0.6328        6    None  0.0   7.834953  2.100950e+01\n",
       "35      0  (0, 60)      0.6328        0    None  0.0  -6.997393 -1.000000e+00\n",
       "36      1  (0, 60)      0.6328        1    None  0.0  -3.678054  9.164217e-01\n",
       "37      2  (0, 60)      0.6328        2    None  0.0  -3.140492  1.359015e+00\n",
       "38      3  (0, 60)      0.6328        3    None  0.0  -0.353868  3.600000e+00\n",
       "39      4  (0, 60)      0.6328        4    None  0.0  -0.346552  3.605884e+00\n",
       "40      5  (0, 60)      0.6328        5    None  0.0   3.122446  6.787527e+00\n",
       "41      6  (0, 60)      0.6328        6    None  0.0  11.752176  1.434648e+01"
      ]
     },
     "execution_count": 5,
     "metadata": {},
     "output_type": "execute_result"
    }
   ],
   "source": [
    "raytrace = visisipy.analysis.raytrace(coordinates=[(0, 0), (0, 30), (0, 60)], wavelengths=[0.543, 0.6328], pupil=(0, 0))\n",
    "\n",
    "raytrace"
   ]
  },
  {
   "cell_type": "markdown",
   "id": "e273f076e5329a21",
   "metadata": {},
   "source": [
    "### {py:func}`Refraction <visisipy.analysis.refraction.refraction>`\n",
    "\n",
    "Calculates the spherical equivalent of refraction of the eye model.\n",
    "The refraction is calculated from Zernike standard coefficients and represented in Fourier power vector form."
   ]
  },
  {
   "cell_type": "code",
   "execution_count": 6,
   "id": "960d29e7029900a9",
   "metadata": {
    "ExecuteTime": {
     "end_time": "2025-04-23T11:40:28.775298Z",
     "start_time": "2025-04-23T11:40:24.221847Z"
    }
   },
   "outputs": [
    {
     "name": "stdout",
     "output_type": "stream",
     "text": [
      "FourierPowerVectorRefraction(M=np.float64(0.7928073037433416), J0=np.float64(1.0982689225470976), J45=np.float64(3.2368802612563178e-12))\n"
     ]
    }
   ],
   "source": [
    "# Calculate the refraction at an eccentricity of 30°\n",
    "refraction = visisipy.analysis.refraction(field_coordinate=(0, 30), use_higher_order_aberrations=True)\n",
    "\n",
    "print(refraction)"
   ]
  },
  {
   "cell_type": "markdown",
   "id": "cee7832568eee867",
   "metadata": {},
   "source": [
    "You can convert the refraction from Fourier power vector form to other representations:"
   ]
  },
  {
   "cell_type": "code",
   "execution_count": 7,
   "id": "ca1ef5221e17e39e",
   "metadata": {
    "ExecuteTime": {
     "end_time": "2025-04-23T11:40:28.855862Z",
     "start_time": "2025-04-23T11:40:28.838714Z"
    }
   },
   "outputs": [
    {
     "name": "stdout",
     "output_type": "stream",
     "text": [
      "SpheroCylindricalRefraction(sphere=np.float64(1.8910762262904393), cylinder=np.float64(-2.1965378450941953), axis=np.float64(8.443268035349381e-11))\n",
      "PolarPowerVectorRefraction(M=np.float64(0.7928073037433416), J=np.float64(1.0982689225470976), axis=np.float64(8.443268035349381e-11))\n"
     ]
    }
   ],
   "source": [
    "print(refraction.to_sphero_cylindrical())\n",
    "print(refraction.to_polar_power_vectors())"
   ]
  },
  {
   "cell_type": "markdown",
   "id": "faeec9af80c0ae7a",
   "metadata": {},
   "source": [
    "### {py:func}`Zernike coefficients <visisipy.analysis.zernike_standard_coefficients.zernike_standard_coefficients>`\n",
    "\n",
    "Calculates the Zernike standard coefficients of the eye model at the retina surface."
   ]
  },
  {
   "cell_type": "code",
   "execution_count": 8,
   "id": "59b7dbdd317fea2c",
   "metadata": {
    "ExecuteTime": {
     "end_time": "2025-04-23T11:40:30.350856Z",
     "start_time": "2025-04-23T11:40:28.966092Z"
    }
   },
   "outputs": [
    {
     "name": "stdout",
     "output_type": "stream",
     "text": [
      "Z 1: -0.0754\n",
      "Z 2: -0.0000\n",
      "Z 3: 0.0267\n",
      "Z 4: -0.0431\n",
      "Z 5: 0.0000\n",
      "Z 6: -0.0872\n",
      "Z 7: 0.0094\n",
      "Z 8: -0.0000\n",
      "Z 9: 0.0011\n",
      "Z10: -0.0000\n",
      "Z11: 0.0004\n",
      "Z12: -0.0000\n",
      "Z13: -0.0000\n",
      "Z14: -0.0000\n",
      "Z15: 0.0000\n"
     ]
    }
   ],
   "source": [
    "zernike_coefficients = visisipy.analysis.zernike_standard_coefficients(sampling=128, maximum_term=15)\n",
    "\n",
    "for term, coefficient in zernike_coefficients.items():\n",
    "    print(f\"Z{term:>2}: {coefficient:.4f}\")"
   ]
  },
  {
   "cell_type": "markdown",
   "id": "2f1699121c3b28b0",
   "metadata": {},
   "source": [
    "## Visualizing eye models\n",
    "\n",
    "Visisipy comes with basic model visualization tools in {py:mod}`visisipy.plots`:"
   ]
  },
  {
   "cell_type": "code",
   "execution_count": 9,
   "id": "c413c235987683ed",
   "metadata": {
    "ExecuteTime": {
     "end_time": "2025-04-23T11:57:41.975768Z",
     "start_time": "2025-04-23T11:57:41.838899Z"
    }
   },
   "outputs": [
    {
     "data": {
      "text/plain": [
       "<matplotlib.legend.Legend at 0x1ccf9fdda60>"
      ]
     },
     "execution_count": 9,
     "metadata": {},
     "output_type": "execute_result"
    },
    {
     "data": {
      "image/png": "[encoded data removed]",
      "text/plain": [
       "<Figure size 640x480 with 1 Axes>"
      ]
     },
     "metadata": {},
     "output_type": "display_data"
    }
   ],
   "source": [
    "fig, ax = plt.subplots()\n",
    "\n",
    "# Plot the raytrace results\n",
    "for f, r in raytrace.query(\"wavelength == 0.543\").groupby(\"field\"):\n",
    "    ax.plot(r.z - (model.geometry.cornea_thickness + model.geometry.anterior_chamber_depth), r.y, label=f\"{f[1]}°\")\n",
    "\n",
    "visisipy.plots.plot_eye(geometry=model.geometry, ax=ax, lens_edge_thickness=0.5)\n",
    "\n",
    "ax.set_xlim(-5, 25)\n",
    "ax.set_ylim(-15, 15)\n",
    "ax.set_aspect(\"equal\")\n",
    "ax.legend()"
   ]
  }
 ],
 "metadata": {
  "kernelspec": {
   "display_name": ".venv",
   "language": "python",
   "name": "python3"
  },
  "language_info": {
   "codemirror_mode": {
    "name": "ipython",
    "version": 3
   },
   "file_extension": ".py",
   "mimetype": "text/x-python",
   "name": "python",
   "nbconvert_exporter": "python",
   "pygments_lexer": "ipython3",
   "version": "3.12.1"
  }
 },
 "nbformat": 4,
 "nbformat_minor": 5
}
