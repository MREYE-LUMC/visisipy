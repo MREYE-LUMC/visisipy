{
 "cells": [
  {
   "cell_type": "markdown",
   "id": "6257736aa14c4820",
   "metadata": {},
   "source": [
    "# Simple example\n",
    "\n",
    "The example below shows how to create a custom eye model from clinical parameters, build it in OpticStudio, and interact with the model."
   ]
  },
  {
   "cell_type": "markdown",
   "id": "38fbe9eb089566b7",
   "metadata": {},
   "source": [
    "## Import `visisipy` and other dependencies"
   ]
  },
  {
   "cell_type": "code",
   "execution_count": null,
   "id": "initial_id",
   "metadata": {
    "collapsed": true
   },
   "outputs": [],
   "source": [
    "import matplotlib.pyplot as plt\n",
    "import seaborn as sns\n",
    "\n",
    "import visisipy"
   ]
  },
  {
   "cell_type": "code",
   "execution_count": null,
   "id": "b0be07ab",
   "metadata": {
    "tags": [
     "remove-cell"
    ]
   },
   "outputs": [],
   "source": [
    "import warnings\n",
    "\n",
    "warnings.filterwarnings(\"ignore\", message=\"Header and row length mismatch\")\n",
    "\n",
    "visisipy.set_backend(\"optiland\")"
   ]
  },
  {
   "cell_type": "markdown",
   "id": "dcb92cfdf7117d0a",
   "metadata": {},
   "source": [
    "## Define and build the eye model\n",
    "\n",
    "Yes, it's only two lines of code!"
   ]
  },
  {
   "cell_type": "code",
   "execution_count": null,
   "id": "c38bd1106a8dc0a5",
   "metadata": {
    "tags": [
     "remove-output"
    ]
   },
   "outputs": [],
   "source": [
    "# Initialize the default Navarro model\n",
    "model = visisipy.EyeModel()\n",
    "\n",
    "# Build the model in OpticStudio\n",
    "model.build()"
   ]
  },
  {
   "cell_type": "markdown",
   "id": "d4b6083ae54edf4d",
   "metadata": {},
   "source": [
    "## Perform a raytrace analysis"
   ]
  },
  {
   "cell_type": "code",
   "execution_count": null,
   "id": "25323f7b674cc172",
   "metadata": {},
   "outputs": [],
   "source": [
    "# List of (x, y) coordinates\n",
    "coordinates = [(0, 0), (0, 10), (0, 20), (0, 30), (0, 40)]\n",
    "raytrace = visisipy.analysis.raytrace(coordinates=coordinates)\n",
    "\n",
    "# Alternatively, the model can be built and analyzed in one go:\n",
    "# raytrace = visisipy.analysis.raytrace(model, coordinates=zip([0] * 5, range(0, 60, 10)))"
   ]
  },
  {
   "cell_type": "markdown",
   "id": "39cdc31c06afb141",
   "metadata": {},
   "source": [
    "## Visualize the eye model and the raytrace results"
   ]
  },
  {
   "cell_type": "code",
   "execution_count": null,
   "id": "8381b55c",
   "metadata": {
    "tags": [
     "remove-cell"
    ]
   },
   "outputs": [],
   "source": [
    "raytrace.z -= model.geometry.cornea_thickness + model.geometry.anterior_chamber_depth"
   ]
  },
  {
   "cell_type": "code",
   "execution_count": null,
   "id": "fdbd49ed50d89106",
   "metadata": {},
   "outputs": [],
   "source": [
    "fig, ax = plt.subplots()\n",
    "visisipy.plots.plot_eye(ax, model.geometry, lens_edge_thickness=0.5)\n",
    "ax.set_xlim((-7, 23))\n",
    "ax.set_ylim((-15, 15))\n",
    "ax.set_aspect(\"equal\")\n",
    "\n",
    "sns.lineplot(raytrace, x=\"z\", y=\"y\", hue=\"field\", ax=ax)\n",
    "sns.move_legend(ax, loc=\"lower right\", title=\"Field\")"
   ]
  }
 ],
 "metadata": {
  "kernelspec": {
   "display_name": "Python 3",
   "language": "python",
   "name": "python3"
  },
  "language_info": {
   "codemirror_mode": {
    "name": "ipython",
    "version": 2
   },
   "file_extension": ".py",
   "mimetype": "text/x-python",
   "name": "python",
   "nbconvert_exporter": "python",
   "pygments_lexer": "ipython2",
   "version": "2.7.6"
  }
 },
 "nbformat": 4,
 "nbformat_minor": 5
}
