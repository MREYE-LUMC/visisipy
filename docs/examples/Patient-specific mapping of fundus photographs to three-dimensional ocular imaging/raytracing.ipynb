{
 "cells": [
  {
   "cell_type": "markdown",
   "id": "891dabe2",
   "metadata": {},
   "source": [
    "# Patient-specific mapping of fundus photographs to three-dimensional ocular imaging"
   ]
  },
  {
   "cell_type": "code",
   "execution_count": 3,
   "id": "initial_id",
   "metadata": {
    "ExecuteTime": {
     "end_time": "2025-03-03T15:48:41.473975Z",
     "start_time": "2025-03-03T15:48:39.381126Z"
    },
    "collapsed": true
   },
   "outputs": [],
   "source": [
    "import matplotlib.pyplot as plt\n",
    "import numpy as np\n",
    "import pandas as pd\n",
    "import seaborn as sns\n",
    "from helpers import InputOutputAngles\n",
    "\n",
    "import visisipy"
   ]
  },
  {
   "cell_type": "code",
   "execution_count": null,
   "id": "79ac5442",
   "metadata": {},
   "outputs": [],
   "source": [
    "# Uncomment the following line to use the Optiland backend\n",
    "# visisipy.set_backend(\"optiland\")"
   ]
  },
  {
   "cell_type": "code",
   "execution_count": 4,
   "id": "e5ac7d468143f9bd",
   "metadata": {
    "ExecuteTime": {
     "end_time": "2025-03-03T15:48:43.377298Z",
     "start_time": "2025-03-03T15:48:43.372578Z"
    }
   },
   "outputs": [],
   "source": [
    "geometry_parameters = {\n",
    "    \"axial_length\": 24.305,  # mm\n",
    "    \"cornea_thickness\": 0.5615,  # mm\n",
    "    \"anterior_chamber_depth\": 3.345,  # mm\n",
    "    \"lens_thickness\": 3.17,  # mm\n",
    "    \"cornea_front_radius\": 7.6967,  # mm\n",
    "    \"cornea_front_asphericity\": -0.2304,\n",
    "    \"cornea_back_radius\": 6.2343,  # mm\n",
    "    \"cornea_back_asphericity\": -0.1444,\n",
    "    \"pupil_radius\": 0.5,  # mm\n",
    "    \"lens_front_radius\": 10.2,  # mm\n",
    "    \"lens_front_asphericity\": -3.1316,\n",
    "    \"lens_back_radius\": -5.4537,  # mm\n",
    "    \"lens_back_asphericity\": -4.1655,\n",
    "    \"retina_radius\": -11.3357,  # mm\n",
    "    \"retina_asphericity\": -0.0631,\n",
    "}\n",
    "\n",
    "geometry = visisipy.models.create_geometry(**geometry_parameters)\n",
    "model = visisipy.models.EyeModel(geometry=geometry)"
   ]
  },
  {
   "cell_type": "code",
   "execution_count": 5,
   "id": "c1e8950f271487db",
   "metadata": {
    "ExecuteTime": {
     "end_time": "2025-03-03T15:48:56.956077Z",
     "start_time": "2025-03-03T15:48:45.758356Z"
    }
   },
   "outputs": [],
   "source": [
    "field_angles = np.arange(0, 90, 5).astype(float)\n",
    "\n",
    "raytrace_results = visisipy.analysis.raytrace(model, coordinates=zip(len(field_angles) * [0], field_angles))"
   ]
  },
  {
   "cell_type": "code",
   "execution_count": null,
   "id": "b6f629af",
   "metadata": {},
   "outputs": [],
   "source": [
    "# Correct for convention differences: OpticStudio puts the pupil at the origin, Optiland the cornea\n",
    "# Uncomment the following line to use the Optiland backend\n",
    "# raytrace_results.z -= geometry.cornea_thickness + geometry.anterior_chamber_depth"
   ]
  },
  {
   "cell_type": "code",
   "execution_count": 7,
   "id": "4b652fc2",
   "metadata": {},
   "outputs": [
    {
     "data": {
      "application/vnd.microsoft.datawrangler.viewer.v0+json": {
       "columns": [
        {
         "name": "index",
         "rawType": "int64",
         "type": "integer"
        },
        {
         "name": "index",
         "rawType": "int64",
         "type": "integer"
        },
        {
         "name": "field",
         "rawType": "object",
         "type": "unknown"
        },
        {
         "name": "wavelength",
         "rawType": "object",
         "type": "unknown"
        },
        {
         "name": "surface",
         "rawType": "object",
         "type": "string"
        },
        {
         "name": "comment",
         "rawType": "object",
         "type": "unknown"
        },
        {
         "name": "x",
         "rawType": "float64",
         "type": "float"
        },
        {
         "name": "y",
         "rawType": "float64",
         "type": "float"
        },
        {
         "name": "z",
         "rawType": "float64",
         "type": "float"
        }
       ],
       "conversionMethod": "pd.DataFrame",
       "ref": "6c62c6bb-84ef-49a8-842c-d20b2d0d1eda",
       "rows": [
        [
         "0",
         "0",
         "(0.0, 0.0)",
         "ZemaxUI.ZOSAPI.ZemaxWavelength",
         "OBJ",
         null,
         "inf",
         "inf",
         "inf"
        ],
        [
         "1",
         "1",
         "(0.0, 0.0)",
         "ZemaxUI.ZOSAPI.ZemaxWavelength",
         "1",
         "corneafront",
         "0.0",
         "0.0",
         "-3.9065"
        ],
        [
         "2",
         "2",
         "(0.0, 0.0)",
         "ZemaxUI.ZOSAPI.ZemaxWavelength",
         "2",
         "corneaback/aqueous",
         "0.0",
         "0.0",
         "-3.345"
        ],
        [
         "3",
         "3",
         "(0.0, 0.0)",
         "ZemaxUI.ZOSAPI.ZemaxWavelength",
         "3",
         "pupil",
         "0.0",
         "0.0",
         "0.0"
        ],
        [
         "4",
         "4",
         "(0.0, 0.0)",
         "ZemaxUI.ZOSAPI.ZemaxWavelength",
         "4",
         "lensfront",
         "0.0",
         "0.0",
         "0.0"
        ],
        [
         "5",
         "5",
         "(0.0, 0.0)",
         "ZemaxUI.ZOSAPI.ZemaxWavelength",
         "5",
         "lensback/vitreous",
         "0.0",
         "0.0",
         "3.17"
        ],
        [
         "6",
         "6",
         "(0.0, 0.0)",
         "ZemaxUI.ZOSAPI.ZemaxWavelength",
         "6",
         "retina",
         "0.0",
         "0.0",
         "20.3985"
        ],
        [
         "7",
         "0",
         "(0.0, 5.0)",
         "ZemaxUI.ZOSAPI.ZemaxWavelength",
         "OBJ",
         null,
         "inf",
         "inf",
         "inf"
        ],
        [
         "8",
         "1",
         "(0.0, 5.0)",
         "ZemaxUI.ZOSAPI.ZemaxWavelength",
         "1",
         "corneafront",
         "0.0",
         "-0.29146512371",
         "-3.900979753"
        ],
        [
         "9",
         "2",
         "(0.0, 5.0)",
         "ZemaxUI.ZOSAPI.ZemaxWavelength",
         "2",
         "corneaback/aqueous",
         "0.0",
         "-0.25003492454",
         "-3.3399842815"
        ],
        [
         "10",
         "3",
         "(0.0, 5.0)",
         "ZemaxUI.ZOSAPI.ZemaxWavelength",
         "3",
         "pupil",
         "0.0",
         "-0.0001207907517",
         "0.0"
        ],
        [
         "11",
         "4",
         "(0.0, 5.0)",
         "ZemaxUI.ZOSAPI.ZemaxWavelength",
         "4",
         "lensfront",
         "0.0",
         "-0.00012079069818",
         "7.152153317e-10"
        ],
        [
         "12",
         "5",
         "(0.0, 5.0)",
         "ZemaxUI.ZOSAPI.ZemaxWavelength",
         "5",
         "lensback/vitreous",
         "0.0",
         "0.22282744464",
         "3.1654538527"
        ],
        [
         "13",
         "6",
         "(0.0, 5.0)",
         "ZemaxUI.ZOSAPI.ZemaxWavelength",
         "6",
         "retina",
         "0.0",
         "1.4621242712",
         "20.30383432"
        ],
        [
         "14",
         "0",
         "(0.0, 10.0)",
         "ZemaxUI.ZOSAPI.ZemaxWavelength",
         "OBJ",
         null,
         "inf",
         "inf",
         "inf"
        ],
        [
         "15",
         "1",
         "(0.0, 10.0)",
         "ZemaxUI.ZOSAPI.ZemaxWavelength",
         "1",
         "corneafront",
         "0.0",
         "-0.58448242808",
         "-3.8842827128"
        ],
        [
         "16",
         "2",
         "(0.0, 10.0)",
         "ZemaxUI.ZOSAPI.ZemaxWavelength",
         "2",
         "corneaback/aqueous",
         "0.0",
         "-0.50138309098",
         "-3.3248105836"
        ],
        [
         "17",
         "3",
         "(0.0, 10.0)",
         "ZemaxUI.ZOSAPI.ZemaxWavelength",
         "3",
         "pupil",
         "0.0",
         "-0.00097484812602",
         "0.0"
        ],
        [
         "18",
         "4",
         "(0.0, 10.0)",
         "ZemaxUI.ZOSAPI.ZemaxWavelength",
         "4",
         "lensfront",
         "0.0",
         "-0.00097484111478",
         "4.6584078158e-08"
        ],
        [
         "19",
         "5",
         "(0.0, 10.0)",
         "ZemaxUI.ZOSAPI.ZemaxWavelength",
         "5",
         "lensback/vitreous",
         "0.0",
         "0.44514302693",
         "3.1519280056"
        ],
        [
         "20",
         "6",
         "(0.0, 10.0)",
         "ZemaxUI.ZOSAPI.ZemaxWavelength",
         "6",
         "retina",
         "0.0",
         "2.8982802538",
         "20.022134116"
        ],
        [
         "21",
         "0",
         "(0.0, 15.0)",
         "ZemaxUI.ZOSAPI.ZemaxWavelength",
         "OBJ",
         null,
         "inf",
         "inf",
         "inf"
        ],
        [
         "22",
         "1",
         "(0.0, 15.0)",
         "ZemaxUI.ZOSAPI.ZemaxWavelength",
         "1",
         "corneafront",
         "0.0",
         "-0.88060896725",
         "-3.8559955519"
        ],
        [
         "23",
         "2",
         "(0.0, 15.0)",
         "ZemaxUI.ZOSAPI.ZemaxWavelength",
         "2",
         "corneaback/aqueous",
         "0.0",
         "-0.75535611134",
         "-3.2990954236"
        ],
        [
         "24",
         "3",
         "(0.0, 15.0)",
         "ZemaxUI.ZOSAPI.ZemaxWavelength",
         "3",
         "pupil",
         "0.0",
         "-0.0033389149431",
         "0.0"
        ],
        [
         "25",
         "4",
         "(0.0, 15.0)",
         "ZemaxUI.ZOSAPI.ZemaxWavelength",
         "4",
         "lensfront",
         "0.0",
         "-0.0033387903824",
         "5.4644708731e-07"
        ],
        [
         "26",
         "5",
         "(0.0, 15.0)",
         "ZemaxUI.ZOSAPI.ZemaxWavelength",
         "5",
         "lensback/vitreous",
         "0.0",
         "0.66648930085",
         "3.1297449087"
        ],
        [
         "27",
         "6",
         "(0.0, 15.0)",
         "ZemaxUI.ZOSAPI.ZemaxWavelength",
         "6",
         "retina",
         "0.0",
         "4.2832440955",
         "19.560240334"
        ],
        [
         "28",
         "0",
         "(0.0, 20.0)",
         "ZemaxUI.ZOSAPI.ZemaxWavelength",
         "OBJ",
         null,
         "inf",
         "inf",
         "inf"
        ],
        [
         "29",
         "1",
         "(0.0, 20.0)",
         "ZemaxUI.ZOSAPI.ZemaxWavelength",
         "1",
         "corneafront",
         "0.0",
         "-1.1814096957",
         "-3.8154146067"
        ],
        [
         "30",
         "2",
         "(0.0, 20.0)",
         "ZemaxUI.ZOSAPI.ZemaxWavelength",
         "2",
         "corneaback/aqueous",
         "0.0",
         "-1.0132602147",
         "-3.2621868548"
        ],
        [
         "31",
         "3",
         "(0.0, 20.0)",
         "ZemaxUI.ZOSAPI.ZemaxWavelength",
         "3",
         "pupil",
         "0.0",
         "-0.0080808860195",
         "0.0"
        ],
        [
         "32",
         "4",
         "(0.0, 20.0)",
         "ZemaxUI.ZOSAPI.ZemaxWavelength",
         "4",
         "lensfront",
         "0.0",
         "-0.0080798999299",
         "3.2002333846e-06"
        ],
        [
         "33",
         "5",
         "(0.0, 20.0)",
         "ZemaxUI.ZOSAPI.ZemaxWavelength",
         "5",
         "lensback/vitreous",
         "0.0",
         "0.8865063007",
         "3.0993953331"
        ],
        [
         "34",
         "6",
         "(0.0, 20.0)",
         "ZemaxUI.ZOSAPI.ZemaxWavelength",
         "6",
         "retina",
         "0.0",
         "5.5933005254",
         "18.929373595"
        ],
        [
         "35",
         "0",
         "(0.0, 25.0)",
         "ZemaxUI.ZOSAPI.ZemaxWavelength",
         "OBJ",
         null,
         "inf",
         "inf",
         "inf"
        ],
        [
         "36",
         "1",
         "(0.0, 25.0)",
         "ZemaxUI.ZOSAPI.ZemaxWavelength",
         "1",
         "corneafront",
         "0.0",
         "-1.4884566205",
         "-3.761523668"
        ],
        [
         "37",
         "2",
         "(0.0, 25.0)",
         "ZemaxUI.ZOSAPI.ZemaxWavelength",
         "2",
         "corneaback/aqueous",
         "0.0",
         "-1.2763880809",
         "-3.2131454476"
        ],
        [
         "38",
         "3",
         "(0.0, 25.0)",
         "ZemaxUI.ZOSAPI.ZemaxWavelength",
         "3",
         "pupil",
         "0.0",
         "-0.016216651683",
         "0.0"
        ],
        [
         "39",
         "4",
         "(0.0, 25.0)",
         "ZemaxUI.ZOSAPI.ZemaxWavelength",
         "4",
         "lensfront",
         "0.0",
         "-0.016211599021",
         "1.2883117109e-05"
        ],
        [
         "40",
         "5",
         "(0.0, 25.0)",
         "ZemaxUI.ZOSAPI.ZemaxWavelength",
         "5",
         "lensback/vitreous",
         "0.0",
         "1.104955581",
         "3.0614819845"
        ],
        [
         "41",
         "6",
         "(0.0, 25.0)",
         "ZemaxUI.ZOSAPI.ZemaxWavelength",
         "6",
         "retina",
         "0.0",
         "6.8070176995",
         "18.144820368"
        ],
        [
         "42",
         "0",
         "(0.0, 30.0)",
         "ZemaxUI.ZOSAPI.ZemaxWavelength",
         "OBJ",
         null,
         "inf",
         "inf",
         "inf"
        ],
        [
         "43",
         "1",
         "(0.0, 30.0)",
         "ZemaxUI.ZOSAPI.ZemaxWavelength",
         "1",
         "corneafront",
         "0.0",
         "-1.8033216925",
         "-3.6929629382"
        ],
        [
         "44",
         "2",
         "(0.0, 30.0)",
         "ZemaxUI.ZOSAPI.ZemaxWavelength",
         "2",
         "corneaback/aqueous",
         "0.0",
         "-1.5460036511",
         "-3.1507181821"
        ],
        [
         "45",
         "3",
         "(0.0, 30.0)",
         "ZemaxUI.ZOSAPI.ZemaxWavelength",
         "3",
         "pupil",
         "0.0",
         "-0.028982848885",
         "0.0"
        ],
        [
         "46",
         "4",
         "(0.0, 30.0)",
         "ZemaxUI.ZOSAPI.ZemaxWavelength",
         "4",
         "lensfront",
         "0.0",
         "-0.0289630501",
         "4.1120326806e-05"
        ],
        [
         "47",
         "5",
         "(0.0, 30.0)",
         "ZemaxUI.ZOSAPI.ZemaxWavelength",
         "5",
         "lensback/vitreous",
         "0.0",
         "1.3217227899",
         "3.0166617239"
        ],
        [
         "48",
         "6",
         "(0.0, 30.0)",
         "ZemaxUI.ZOSAPI.ZemaxWavelength",
         "6",
         "retina",
         "0.0",
         "7.9059879125",
         "17.225444077"
        ],
        [
         "49",
         "0",
         "(0.0, 35.0)",
         "ZemaxUI.ZOSAPI.ZemaxWavelength",
         "OBJ",
         null,
         "inf",
         "inf",
         "inf"
        ]
       ],
       "shape": {
        "columns": 8,
        "rows": 126
       }
      },
      "text/html": [
       "<div>\n",
       "<style scoped>\n",
       "    .dataframe tbody tr th:only-of-type {\n",
       "        vertical-align: middle;\n",
       "    }\n",
       "\n",
       "    .dataframe tbody tr th {\n",
       "        vertical-align: top;\n",
       "    }\n",
       "\n",
       "    .dataframe thead th {\n",
       "        text-align: right;\n",
       "    }\n",
       "</style>\n",
       "<table border=\"1\" class=\"dataframe\">\n",
       "  <thead>\n",
       "    <tr style=\"text-align: right;\">\n",
       "      <th></th>\n",
       "      <th>index</th>\n",
       "      <th>field</th>\n",
       "      <th>wavelength</th>\n",
       "      <th>surface</th>\n",
       "      <th>comment</th>\n",
       "      <th>x</th>\n",
       "      <th>y</th>\n",
       "      <th>z</th>\n",
       "    </tr>\n",
       "  </thead>\n",
       "  <tbody>\n",
       "    <tr>\n",
       "      <th>0</th>\n",
       "      <td>0</td>\n",
       "      <td>(0.0, 0.0)</td>\n",
       "      <td>ZemaxUI.ZOSAPI.ZemaxWavelength</td>\n",
       "      <td>OBJ</td>\n",
       "      <td>NaN</td>\n",
       "      <td>inf</td>\n",
       "      <td>inf</td>\n",
       "      <td>inf</td>\n",
       "    </tr>\n",
       "    <tr>\n",
       "      <th>1</th>\n",
       "      <td>1</td>\n",
       "      <td>(0.0, 0.0)</td>\n",
       "      <td>ZemaxUI.ZOSAPI.ZemaxWavelength</td>\n",
       "      <td>1</td>\n",
       "      <td>corneafront</td>\n",
       "      <td>0.0</td>\n",
       "      <td>0.000000</td>\n",
       "      <td>-3.906500</td>\n",
       "    </tr>\n",
       "    <tr>\n",
       "      <th>2</th>\n",
       "      <td>2</td>\n",
       "      <td>(0.0, 0.0)</td>\n",
       "      <td>ZemaxUI.ZOSAPI.ZemaxWavelength</td>\n",
       "      <td>2</td>\n",
       "      <td>corneaback/aqueous</td>\n",
       "      <td>0.0</td>\n",
       "      <td>0.000000</td>\n",
       "      <td>-3.345000</td>\n",
       "    </tr>\n",
       "    <tr>\n",
       "      <th>3</th>\n",
       "      <td>3</td>\n",
       "      <td>(0.0, 0.0)</td>\n",
       "      <td>ZemaxUI.ZOSAPI.ZemaxWavelength</td>\n",
       "      <td>3</td>\n",
       "      <td>pupil</td>\n",
       "      <td>0.0</td>\n",
       "      <td>0.000000</td>\n",
       "      <td>0.000000</td>\n",
       "    </tr>\n",
       "    <tr>\n",
       "      <th>4</th>\n",
       "      <td>4</td>\n",
       "      <td>(0.0, 0.0)</td>\n",
       "      <td>ZemaxUI.ZOSAPI.ZemaxWavelength</td>\n",
       "      <td>4</td>\n",
       "      <td>lensfront</td>\n",
       "      <td>0.0</td>\n",
       "      <td>0.000000</td>\n",
       "      <td>0.000000</td>\n",
       "    </tr>\n",
       "    <tr>\n",
       "      <th>...</th>\n",
       "      <td>...</td>\n",
       "      <td>...</td>\n",
       "      <td>...</td>\n",
       "      <td>...</td>\n",
       "      <td>...</td>\n",
       "      <td>...</td>\n",
       "      <td>...</td>\n",
       "      <td>...</td>\n",
       "    </tr>\n",
       "    <tr>\n",
       "      <th>121</th>\n",
       "      <td>2</td>\n",
       "      <td>(0.0, 85.0)</td>\n",
       "      <td>ZemaxUI.ZOSAPI.ZemaxWavelength</td>\n",
       "      <td>2</td>\n",
       "      <td>corneaback/aqueous</td>\n",
       "      <td>0.0</td>\n",
       "      <td>-5.105111</td>\n",
       "      <td>-0.815834</td>\n",
       "    </tr>\n",
       "    <tr>\n",
       "      <th>122</th>\n",
       "      <td>3</td>\n",
       "      <td>(0.0, 85.0)</td>\n",
       "      <td>ZemaxUI.ZOSAPI.ZemaxWavelength</td>\n",
       "      <td>3</td>\n",
       "      <td>pupilVignetted</td>\n",
       "      <td>0.0</td>\n",
       "      <td>-2.166597</td>\n",
       "      <td>0.000000</td>\n",
       "    </tr>\n",
       "    <tr>\n",
       "      <th>123</th>\n",
       "      <td>4</td>\n",
       "      <td>(0.0, 85.0)</td>\n",
       "      <td>ZemaxUI.ZOSAPI.ZemaxWavelength</td>\n",
       "      <td>4</td>\n",
       "      <td>lensfront</td>\n",
       "      <td>0.0</td>\n",
       "      <td>-1.677002</td>\n",
       "      <td>0.135929</td>\n",
       "    </tr>\n",
       "    <tr>\n",
       "      <th>124</th>\n",
       "      <td>5</td>\n",
       "      <td>(0.0, 85.0)</td>\n",
       "      <td>ZemaxUI.ZOSAPI.ZemaxWavelength</td>\n",
       "      <td>5</td>\n",
       "      <td>lensback/vitreous</td>\n",
       "      <td>0.0</td>\n",
       "      <td>3.556435</td>\n",
       "      <td>2.253939</td>\n",
       "    </tr>\n",
       "    <tr>\n",
       "      <th>125</th>\n",
       "      <td>6</td>\n",
       "      <td>(0.0, 85.0)</td>\n",
       "      <td>ZemaxUI.ZOSAPI.ZemaxWavelength</td>\n",
       "      <td>6</td>\n",
       "      <td>retina</td>\n",
       "      <td>0.0</td>\n",
       "      <td>11.206022</td>\n",
       "      <td>4.784060</td>\n",
       "    </tr>\n",
       "  </tbody>\n",
       "</table>\n",
       "<p>126 rows × 8 columns</p>\n",
       "</div>"
      ],
      "text/plain": [
       "     index        field                      wavelength surface  \\\n",
       "0        0   (0.0, 0.0)  ZemaxUI.ZOSAPI.ZemaxWavelength     OBJ   \n",
       "1        1   (0.0, 0.0)  ZemaxUI.ZOSAPI.ZemaxWavelength       1   \n",
       "2        2   (0.0, 0.0)  ZemaxUI.ZOSAPI.ZemaxWavelength       2   \n",
       "3        3   (0.0, 0.0)  ZemaxUI.ZOSAPI.ZemaxWavelength       3   \n",
       "4        4   (0.0, 0.0)  ZemaxUI.ZOSAPI.ZemaxWavelength       4   \n",
       "..     ...          ...                             ...     ...   \n",
       "121      2  (0.0, 85.0)  ZemaxUI.ZOSAPI.ZemaxWavelength       2   \n",
       "122      3  (0.0, 85.0)  ZemaxUI.ZOSAPI.ZemaxWavelength       3   \n",
       "123      4  (0.0, 85.0)  ZemaxUI.ZOSAPI.ZemaxWavelength       4   \n",
       "124      5  (0.0, 85.0)  ZemaxUI.ZOSAPI.ZemaxWavelength       5   \n",
       "125      6  (0.0, 85.0)  ZemaxUI.ZOSAPI.ZemaxWavelength       6   \n",
       "\n",
       "                comment    x          y         z  \n",
       "0                   NaN  inf        inf       inf  \n",
       "1           corneafront  0.0   0.000000 -3.906500  \n",
       "2    corneaback/aqueous  0.0   0.000000 -3.345000  \n",
       "3                 pupil  0.0   0.000000  0.000000  \n",
       "4             lensfront  0.0   0.000000  0.000000  \n",
       "..                  ...  ...        ...       ...  \n",
       "121  corneaback/aqueous  0.0  -5.105111 -0.815834  \n",
       "122      pupilVignetted  0.0  -2.166597  0.000000  \n",
       "123           lensfront  0.0  -1.677002  0.135929  \n",
       "124   lensback/vitreous  0.0   3.556435  2.253939  \n",
       "125              retina  0.0  11.206022  4.784060  \n",
       "\n",
       "[126 rows x 8 columns]"
      ]
     },
     "execution_count": 7,
     "metadata": {},
     "output_type": "execute_result"
    }
   ],
   "source": [
    "raytrace_results"
   ]
  },
  {
   "cell_type": "code",
   "execution_count": 8,
   "id": "dfbd2eda9533dca4",
   "metadata": {
    "ExecuteTime": {
     "end_time": "2025-03-03T15:49:00.318718Z",
     "start_time": "2025-03-03T15:48:59.826928Z"
    }
   },
   "outputs": [
    {
     "data": {
      "image/png": "[encoded data removed]",
      "text/plain": [
       "<Figure size 640x480 with 1 Axes>"
      ]
     },
     "metadata": {},
     "output_type": "display_data"
    }
   ],
   "source": [
    "fig, ax = plt.subplots()\n",
    "\n",
    "visisipy.plots.plot_eye(ax, model, lens_edge_thickness=0.5)\n",
    "sns.lineplot(\n",
    "    data=raytrace_results,\n",
    "    x=\"z\",\n",
    "    y=\"y\",\n",
    "    hue=[f[1] for f in raytrace_results.field],\n",
    "    ax=ax,\n",
    ")\n",
    "\n",
    "ax.set_aspect(\"equal\")\n",
    "ax.set_xlim(-5, 25)\n",
    "ax.set_ylim(-15, 15)\n",
    "ax.set_xlabel(\"z (mm)\")\n",
    "ax.set_ylabel(\"y (mm)\")\n",
    "\n",
    "sns.move_legend(ax, \"lower right\")"
   ]
  },
  {
   "cell_type": "code",
   "execution_count": 9,
   "id": "cd01ee19289632f8",
   "metadata": {
    "ExecuteTime": {
     "end_time": "2025-03-03T15:49:03.560568Z",
     "start_time": "2025-03-03T15:49:03.504530Z"
    }
   },
   "outputs": [],
   "source": [
    "# Calculate cardinal point locations\n",
    "cardinal_points = visisipy.analysis.cardinal_points(model)\n",
    "\n",
    "# Get the location of the second nodal point with respect to the pupil location, which is the origin in OpticStudio\n",
    "second_nodal_point = cardinal_points.nodal_points.image + (geometry.lens_thickness + geometry.vitreous_thickness)\n",
    "\n",
    "# In the Navarro model, the second nodal point is located 7.45 mm behind the cornea apex\n",
    "second_nodal_point_navarro = 7.45 - (geometry.cornea_thickness + geometry.anterior_chamber_depth)\n",
    "\n",
    "# Calculate the location of the retina center\n",
    "retina_center = geometry.lens_thickness + geometry.vitreous_thickness + geometry.retina.half_axes.axial"
   ]
  },
  {
   "cell_type": "code",
   "execution_count": 10,
   "id": "11e14be73bd4c8b0",
   "metadata": {
    "ExecuteTime": {
     "end_time": "2025-03-03T15:49:06.053732Z",
     "start_time": "2025-03-03T15:49:06.042191Z"
    }
   },
   "outputs": [],
   "source": [
    "input_output_angles = pd.DataFrame(\n",
    "    [\n",
    "        InputOutputAngles.from_ray_trace_result(\n",
    "            g.set_index(\"index\"),\n",
    "            np2=second_nodal_point,\n",
    "            np2_navarro=second_nodal_point_navarro,\n",
    "            retina_center=retina_center,\n",
    "        )\n",
    "        for _, g in raytrace_results.groupby(\"field\")\n",
    "    ]\n",
    ")"
   ]
  },
  {
   "cell_type": "code",
   "execution_count": 11,
   "id": "5f0791d480fc9681",
   "metadata": {
    "ExecuteTime": {
     "end_time": "2025-03-03T15:49:07.553069Z",
     "start_time": "2025-03-03T15:49:07.384410Z"
    }
   },
   "outputs": [
    {
     "data": {
      "image/png": "[encoded data removed]",
      "text/plain": [
       "<Figure size 640x480 with 1 Axes>"
      ]
     },
     "metadata": {},
     "output_type": "display_data"
    }
   ],
   "source": [
    "fig, ax = plt.subplots()\n",
    "\n",
    "sns.lineplot(\n",
    "    data=input_output_angles,\n",
    "    x=\"input_angle_field\",\n",
    "    y=\"output_angle_np2\",\n",
    "    label=\"$2^{\\\\mathrm{nd}}$ nodal point\",\n",
    ")\n",
    "sns.lineplot(\n",
    "    data=input_output_angles,\n",
    "    x=\"input_angle_field\",\n",
    "    y=\"output_angle_retina_center\",\n",
    "    label=\"Retina center\",\n",
    ")\n",
    "sns.lineplot(\n",
    "    data=input_output_angles,\n",
    "    x=\"input_angle_field\",\n",
    "    y=\"output_angle_pupil\",\n",
    "    label=\"Pupil\",\n",
    ")\n",
    "\n",
    "ax.set_xlabel(\"Camera angle [°]\")\n",
    "ax.set_ylabel(\"Retina angle [°]\")\n",
    "ax.set_aspect(\"equal\")\n",
    "ax.grid()"
   ]
  }
 ],
 "metadata": {
  "kernelspec": {
   "display_name": ".venv",
   "language": "python",
   "name": "python3"
  },
  "language_info": {
   "codemirror_mode": {
    "name": "ipython",
    "version": 3
   },
   "file_extension": ".py",
   "mimetype": "text/x-python",
   "name": "python",
   "nbconvert_exporter": "python",
   "pygments_lexer": "ipython3",
   "version": "3.12.1"
  }
 },
 "nbformat": 4,
 "nbformat_minor": 5
}
