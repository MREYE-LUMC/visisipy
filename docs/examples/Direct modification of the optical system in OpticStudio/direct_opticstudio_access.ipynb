{
 "cells": [
  {
   "cell_type": "code",
   "execution_count": 1,
   "id": "7599a497",
   "metadata": {
    "tags": [
     "remove-cell"
    ]
   },
   "outputs": [],
   "source": [
    "import os\n",
    "from tempfile import TemporaryDirectory\n",
    "\n",
    "# Change the current working directory to a temporary directory to prevent saving files in the documentation directory.\n",
    "temdir = TemporaryDirectory()\n",
    "os.chdir(temdir.name)"
   ]
  },
  {
   "cell_type": "markdown",
   "id": "c17d2ca2",
   "metadata": {},
   "source": [
    "# Direct modification of the optical system in OpticStudio\n",
    "\n",
    "This example demonstrates how to use the Optiland backend to directly modify the optical system in OpticStudio.\n",
    "Similar code for the Optiland backend can be found in the [user guide](../../user_guide/backend_direct.ipynb)."
   ]
  },
  {
   "cell_type": "markdown",
   "id": "997580fd",
   "metadata": {},
   "source": [
    "# "
   ]
  },
  {
   "cell_type": "code",
   "execution_count": 2,
   "id": "98b7b82e",
   "metadata": {
    "tags": [
     "remove-output"
    ]
   },
   "outputs": [
    {
     "data": {
      "text/plain": [
       "<visisipy.opticstudio.models.OpticStudioEye at 0x1cfead80350>"
      ]
     },
     "execution_count": 2,
     "metadata": {},
     "output_type": "execute_result"
    }
   ],
   "source": [
    "import visisipy\n",
    "\n",
    "visisipy.set_backend(\"opticstudio\")\n",
    "\n",
    "model = visisipy.EyeModel()\n",
    "model.build()"
   ]
  },
  {
   "cell_type": "markdown",
   "id": "7015e23e",
   "metadata": {},
   "source": [
    "## Obtain the backend object and save the model"
   ]
  },
  {
   "cell_type": "code",
   "execution_count": 3,
   "id": "3b04b04c",
   "metadata": {},
   "outputs": [],
   "source": [
    "backend = visisipy.get_backend()\n",
    "backend.save_model(\"eye_model.zmx\")"
   ]
  },
  {
   "cell_type": "markdown",
   "id": "b3902fac",
   "metadata": {},
   "source": [
    "## Insert a new surface\n",
    "\n",
    "Insert a dummy surface 10 mm before the cornea front.\n",
    "This does not have any optical effects, but it helps to visualize the incoming beam in the system plots."
   ]
  },
  {
   "cell_type": "code",
   "execution_count": 4,
   "id": "c0159f4f",
   "metadata": {},
   "outputs": [],
   "source": [
    "oss = visisipy.get_oss()\n",
    "\n",
    "dummy_surface = oss.LDE.InsertNewSurfaceAt(1)\n",
    "dummy_surface.Comment = \"dummy surface\"\n",
    "dummy_surface.Thickness = 10.0"
   ]
  },
  {
   "cell_type": "markdown",
   "id": "5c01516a",
   "metadata": {},
   "source": [
    "## Run an OpticStudio analysis\n",
    "\n",
    "Visisipy does not provide wrappers for all OpticStudio analyses.\n",
    "Using ZOSPy and the `oss` object, these analyses can still be run.\n",
    "This is how to show the 3D viewer output of the optical system:"
   ]
  },
  {
   "cell_type": "code",
   "execution_count": 5,
   "id": "865127ae",
   "metadata": {},
   "outputs": [
    {
     "data": {
      "image/png": "[encoded data removed]",
      "text/plain": [
       "<Figure size 640x480 with 1 Axes>"
      ]
     },
     "metadata": {},
     "output_type": "display_data"
    }
   ],
   "source": [
    "import matplotlib.pyplot as plt\n",
    "import zospy as zp\n",
    "\n",
    "cross_section = zp.analyses.systemviewers.Viewer3D(\n",
    "    surface_line_thickness=\"Thick\", rays_line_thickness=\"Thick\", number_of_rays=5, delete_vignetted=True\n",
    ").run(oss)\n",
    "\n",
    "plt.imshow(cross_section.data)\n",
    "plt.axis(\"off\")\n",
    "\n",
    "plt.show()"
   ]
  }
 ],
 "metadata": {
  "kernelspec": {
   "display_name": ".venv",
   "language": "python",
   "name": "python3"
  },
  "language_info": {
   "codemirror_mode": {
    "name": "ipython",
    "version": 3
   },
   "file_extension": ".py",
   "mimetype": "text/x-python",
   "name": "python",
   "nbconvert_exporter": "python",
   "pygments_lexer": "ipython3",
   "version": "3.12.1"
  }
 },
 "nbformat": 4,
 "nbformat_minor": 5
}
