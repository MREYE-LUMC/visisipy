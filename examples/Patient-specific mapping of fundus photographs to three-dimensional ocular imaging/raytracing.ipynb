{
 "cells": [
  {
   "cell_type": "code",
   "id": "initial_id",
   "metadata": {
    "collapsed": true,
    "jupyter": {
     "is_executing": true
    }
   },
   "source": [
    "import visisipy\n",
    "import numpy as np\n",
    "import pandas as pd\n",
    "import matplotlib.pyplot as plt\n",
    "import seaborn as sns\n",
    "\n",
    "from helpers import InputOutputAngles"
   ],
   "outputs": [],
   "execution_count": null
  },
  {
   "metadata": {
    "jupyter": {
     "is_executing": true
    }
   },
   "cell_type": "code",
   "source": [
    "geometry_parameters = {\n",
    "    \"axial_length\": 24.305,  # mm\n",
    "    \"cornea_thickness\": 0.5615,  # mm\n",
    "    \"anterior_chamber_depth\": 3.345,  # mm\n",
    "    \"lens_thickness\": 3.17,  # mm\n",
    "    \"cornea_front_radius\": 7.6967,  # mm\n",
    "    \"cornea_front_asphericity\": -0.2304,\n",
    "    \"cornea_back_radius\": 6.2343,  # mm\n",
    "    \"cornea_back_asphericity\": -0.1444,\n",
    "    \"pupil_radius\": 0.5,  # mm\n",
    "    \"lens_front_radius\": 10.2,  # mm\n",
    "    \"lens_front_asphericity\": -3.1316,\n",
    "    \"lens_back_radius\": -5.4537,  # mm\n",
    "    \"lens_back_asphericity\": -4.1655,\n",
    "    \"retina_radius\": -11.3357,  # mm\n",
    "    \"retina_asphericity\": -0.0631,\n",
    "}\n",
    "\n",
    "geometry = visisipy.models.create_geometry(**geometry_parameters)\n",
    "model = visisipy.models.EyeModel(geometry=geometry)"
   ],
   "id": "e5ac7d468143f9bd",
   "outputs": [],
   "execution_count": null
  },
  {
   "metadata": {
    "jupyter": {
     "is_executing": true
    }
   },
   "cell_type": "code",
   "source": [
    "field_angles = np.arange(0, 90, 5).astype(float)\n",
    "\n",
    "raytrace_results = visisipy.analysis.raytrace(model, coordinates=zip(len(field_angles) * [0], field_angles))"
   ],
   "id": "c1e8950f271487db",
   "outputs": [],
   "execution_count": null
  },
  {
   "metadata": {
    "jupyter": {
     "is_executing": true
    }
   },
   "cell_type": "code",
   "source": [
    "fig, ax = plt.subplots()\n",
    "\n",
    "visisipy.plots.plot_eye(ax, model, lens_edge_thickness=0.5)\n",
    "sns.lineplot(data=raytrace_results, x=\"z\", y=\"y\", hue=[f[1] for f in raytrace_results.field], ax=ax)\n",
    "\n",
    "ax.set_aspect(\"equal\")\n",
    "ax.set_xlim(-5, 25)\n",
    "ax.set_ylim(-15, 15)\n",
    "ax.set_xlabel(\"z (mm)\")\n",
    "ax.set_ylabel(\"y (mm)\")\n",
    "\n",
    "sns.move_legend(ax, \"lower right\")"
   ],
   "id": "dfbd2eda9533dca4",
   "outputs": [],
   "execution_count": null
  },
  {
   "metadata": {
    "jupyter": {
     "is_executing": true
    }
   },
   "cell_type": "code",
   "source": [
    "# Calculate cardinal point locations\n",
    "cardinal_points = visisipy.analysis.cardinal_points(model)\n",
    "\n",
    "# Get the location of the second nodal point with respect to the pupil location, which is the origin in OpticStudio\n",
    "second_nodal_point = cardinal_points.nodal_points.image + (geometry.lens_thickness + geometry.vitreous_thickness)\n",
    "\n",
    "# In the Navarro model, the second nodal point is located 7.45 mm behind the cornea apex\n",
    "second_nodal_point_navarro = 7.45 - (geometry.cornea_thickness + geometry.anterior_chamber_depth)\n",
    "\n",
    "# Calculate the location of the retina center\n",
    "retina_center = geometry.lens_thickness + geometry.vitreous_thickness + geometry.retina.half_axes.axial"
   ],
   "id": "cd01ee19289632f8",
   "outputs": [],
   "execution_count": null
  },
  {
   "metadata": {
    "jupyter": {
     "is_executing": true
    }
   },
   "cell_type": "code",
   "source": "input_output_angles = pd.DataFrame([InputOutputAngles.from_ray_trace_result(g.set_index(\"index\"), np2=second_nodal_point, np2_navarro=second_nodal_point_navarro, retina_center=retina_center) for _, g in raytrace_results.groupby(\"field\")])",
   "id": "11e14be73bd4c8b0",
   "outputs": [],
   "execution_count": null
  },
  {
   "metadata": {
    "jupyter": {
     "is_executing": true
    }
   },
   "cell_type": "code",
   "source": [
    "fig, ax = plt.subplots()\n",
    "\n",
    "sns.lineplot(\n",
    "    data=input_output_angles,\n",
    "    x=\"input_angle_field\",\n",
    "    y=\"output_angle_np2\",\n",
    "    label=\"$2^{\\\\mathrm{nd}}$ nodal point\",\n",
    ")\n",
    "sns.lineplot(\n",
    "    data=input_output_angles,\n",
    "    x=\"input_angle_field\",\n",
    "    y=\"output_angle_retina_center\",\n",
    "    label=\"Retina center\",\n",
    ")\n",
    "sns.lineplot(\n",
    "    data=input_output_angles,\n",
    "    x=\"input_angle_field\",\n",
    "    y=\"output_angle_pupil\",\n",
    "    label=\"Pupil\",\n",
    ")\n",
    "\n",
    "ax.set_xlabel(\"Camera angle [°]\")\n",
    "ax.set_ylabel(\"Retina angle [°]\")\n",
    "ax.set_aspect(\"equal\")\n",
    "ax.grid()"
   ],
   "id": "5f0791d480fc9681",
   "outputs": [],
   "execution_count": null
  }
 ],
 "metadata": {
  "kernelspec": {
   "display_name": "Python 3",
   "language": "python",
   "name": "python3"
  },
  "language_info": {
   "codemirror_mode": {
    "name": "ipython",
    "version": 2
   },
   "file_extension": ".py",
   "mimetype": "text/x-python",
   "name": "python",
   "nbconvert_exporter": "python",
   "pygments_lexer": "ipython2",
   "version": "2.7.6"
  }
 },
 "nbformat": 4,
 "nbformat_minor": 5
}
